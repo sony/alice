{
 "cells": [
  {
   "cell_type": "code",
   "execution_count": null,
   "metadata": {},
   "outputs": [
    {
     "name": "stdout",
     "output_type": "stream",
     "text": [
      "Selecting CUDA device 0 with 48386 MiB free memory and 0% utilization\n"
     ]
    }
   ],
   "source": [
    "import os\n",
    "if '_cwd_set' not in locals(): locals()['_cwd_set'] = os.chdir(os.path.dirname(os.getcwd()))\n",
    "import omnifig as fig\n",
    "fig.initialize()\n",
    "from src.jimports import *\n",
    "from src.util import set_default_device, repo_root, data_root\n",
    "from src.dataset import RawCOCO, SimpleCOCO, RawCOCOCaptions, COCOCaptions, COCO, MNIST\n",
    "from src.baselines import AlignmentMetrics, ConceptAlgebra\n",
    "from src.pretrained import CLIP as PretrainedCLIP\n",
    "# from src.pretrained import CLIP\n",
    "device = set_default_device();"
   ]
  },
  {
   "cell_type": "code",
   "execution_count": 5,
   "metadata": {},
   "outputs": [
    {
     "data": {
      "text/plain": [
       "(COCO[25014](index, text_features, label, image_id, caption_id, caption, image, image_features),\n",
       " 5000)"
      ]
     },
     "execution_count": 5,
     "metadata": {},
     "output_type": "execute_result"
    }
   ],
   "source": [
    "# fullddata = COCO(eval_split=-0.1)\n",
    "syscfg = fig.create_config('h/ws2')\n",
    "syscfg.silent=True\n",
    "fullddata = COCO(eval_split=None, split='val', dataroot=syscfg.pull('dataroot'))\n",
    "fullddata.prepare(device=device);\n",
    "fiids = fullddata.get_image_id(np.arange(fullddata.size))\n",
    "idmap = {}\n",
    "for i, im in enumerate(fiids.tolist()):\n",
    "    idmap.setdefault(im, []).append(i)\n",
    "picks = np.array([options[0] for options in idmap.values()])\n",
    "fullddata, len(picks)"
   ]
  },
  {
   "cell_type": "code",
   "execution_count": 6,
   "metadata": {},
   "outputs": [],
   "source": [
    "# cfg = fig.create_config(*'norm intv/module m/ced-man a/mlp d/coco-emb'.split())\n",
    "loc = Path('/data/felix/cache/checkpoints/clip128_coco_20250116_124128/ckpt_100000')\n",
    "# loc = Path('/data/felix/cache/checkpoints/clip128_coco_20250116_124128/ckpt_100000')\n",
    "loc = '/data/felix/cache/checkpoints/clip128_coco_20250117_231401/ckpt_020000'\n",
    "# loc = '/data/felix/cache/checkpoints/clip128_coco_20250117_231821/ckpt_020000'\n",
    "loc = '/data/felix/cache/checkpoints/clip128_coco_20250118_003826/ckpt_020000'\n",
    "loc = '/data/felix/cache/checkpoints/clip128_coco_20250118_003933/ckpt_020000'\n",
    "loc = '/data/felix/cache/checkpoints/clip128_coco_20250118_004059/ckpt_020000'\n",
    "loc = '/data/felix/cache/checkpoints/clip128_coco_20250118_004241/ckpt_020000'\n",
    "loc = '/data/felix/cache/checkpoints/clip128_coco_20250118_125753/ckpt_020000'\n",
    "loc = '/data/felix/cache/checkpoints/clip128_coco_20250118_143938/ckpt_020000'\n",
    "loc = '/data/felix/cache/checkpoints/clip128_coco_20250118_151742/ckpt_020000'\n",
    "loc = '/data/felix/cache/checkpoints/clip128_coco_20250118_151951/ckpt_020000'\n",
    "loc = '/data/felix/cache/checkpoints/clip128_coco_20250118_143847/ckpt_020000'\n",
    "loc = '/data/felix/cache/checkpoints/clip128_coco_20250118_151838/ckpt_020000'\n",
    "loc = '/data/felix/cache/checkpoints/clip128_coco_20250118_141845/ckpt_100000'\n",
    "loc = '/data/felix/cache/checkpoints/clip128_coco_20250118_004603/ckpt_020000'\n",
    "loc = '/data/felix/cache/checkpoints/clip128_coco_20250118_004519/ckpt_020000'\n",
    "loc = '/data/felix/cache/checkpoints/clip128_coco_20250120_141247/ckpt_100000'\n",
    "loc = '/ssd/felix/cache/checkpoints/clip512_coco_20250126_171823/ckpt_020000'\n",
    "\n",
    "loc = Path(loc)\n",
    "cfg = fig.create_config(*'h/ws2 a/wide m/clip d/coco-full'.split())\n",
    "cfg.push('latent-dim', 512);\n",
    "# cfg = fig.create_config(loc.joinpath('config.yaml'))"
   ]
  },
  {
   "cell_type": "code",
   "execution_count": 7,
   "metadata": {},
   "outputs": [
    {
     "data": {
      "text/plain": [
       "COCO[532578](index, text_features, label, image_id, caption_id, caption, image, image_features)"
      ]
     },
     "execution_count": 7,
     "metadata": {},
     "output_type": "execute_result"
    }
   ],
   "source": [
    "trainer = cfg.pull('trainer', silent=True)\n",
    "model = trainer.model\n",
    "traindataset = cfg.pull('dataset', silent=True)\n",
    "valdataset = traindataset.as_eval()\n",
    "metrics = cfg.pull('env.alignment', silent=True)\n",
    "traindataset"
   ]
  },
  {
   "cell_type": "code",
   "execution_count": 8,
   "metadata": {},
   "outputs": [],
   "source": [
    "traindataset.prepare(device=device);\n",
    "valdataset.prepare(device=device)\n",
    "system = Structured(traindataset, *trainer.gadgetry())\n",
    "system.mechanize() # sync for gears and spaces\n",
    "mech = system.mechanics()\n",
    "model.prepare(device=device);\n",
    "for p in model.parameters():\n",
    "    p.requires_grad = False"
   ]
  },
  {
   "cell_type": "code",
   "execution_count": 9,
   "metadata": {},
   "outputs": [
    {
     "data": {
      "text/plain": [
       "CLIP(\n",
       "  (text_encoder): MLP(\n",
       "    (0): Linear(in_features=768, out_features=1024, bias=True)\n",
       "    (1): ELU(alpha=1.0, inplace=True)\n",
       "    (2): Linear(in_features=1024, out_features=1024, bias=True)\n",
       "    (3): ELU(alpha=1.0, inplace=True)\n",
       "    (4): Linear(in_features=1024, out_features=512, bias=True)\n",
       "  )\n",
       "  (image_encoder): MLP(\n",
       "    (0): Linear(in_features=768, out_features=1024, bias=True)\n",
       "    (1): ELU(alpha=1.0, inplace=True)\n",
       "    (2): Linear(in_features=1024, out_features=1024, bias=True)\n",
       "    (3): ELU(alpha=1.0, inplace=True)\n",
       "    (4): Linear(in_features=1024, out_features=512, bias=True)\n",
       "  )\n",
       ")"
      ]
     },
     "execution_count": 9,
     "metadata": {},
     "output_type": "execute_result"
    }
   ],
   "source": [
    "model"
   ]
  },
  {
   "cell_type": "code",
   "execution_count": 10,
   "metadata": {},
   "outputs": [
    {
     "data": {
      "text/plain": [
       "4723713"
      ]
     },
     "execution_count": 10,
     "metadata": {},
     "output_type": "execute_result"
    }
   ],
   "source": [
    "trainable_params = sum(p.numel() for p in model.parameters())\n",
    "trainable_params"
   ]
  },
  {
   "cell_type": "code",
   "execution_count": 27,
   "metadata": {},
   "outputs": [
    {
     "name": "stderr",
     "output_type": "stream",
     "text": [
      "/home/felix/workspace/clones/foundation/omnilearn/machines.py:40: FutureWarning: You are using `torch.load` with `weights_only=False` (the current default value), which uses the default pickle module implicitly. It is possible to construct malicious pickle data which will execute arbitrary code during unpickling (See https://github.com/pytorch/pytorch/blob/main/SECURITY.md#untrusted-models for more details). In a future release, the default value for `weights_only` will be flipped to `True`. This limits the functions that could be executed during unpickling. Arbitrary objects will no longer be allowed to be loaded via this mode unless they are explicitly allowlisted by the user via `torch.serialization.add_safe_globals`. We recommend you start setting `weights_only=True` for any use case where you don't have full control of the loaded file. Please open an issue on GitHub for any issues related to this experimental feature.\n",
      "  data = torch.load(path, map_location=torch.device('cpu'))\n"
     ]
    }
   ],
   "source": [
    "model.load_checkpoint(path=loc.joinpath('model'));\n",
    "\n",
    "# text_loc = '/data/felix/cache/checkpoints/sae128_cococap_20250117_171402/ckpt_080000/model-encoder.pt'\n",
    "# text_loc = Path(text_loc)\n",
    "# image_loc = '/data/felix/cache/checkpoints/ae128_coco_20250114_230254/ckpt_020000/model-encoder.pt'\n",
    "# image_loc = Path(image_loc)\n",
    "# model.text_encoder.load_checkpoint(path=text_loc)\n",
    "# model.image_encoder.load_checkpoint(path=image_loc);"
   ]
  },
  {
   "cell_type": "code",
   "execution_count": 41,
   "metadata": {},
   "outputs": [
    {
     "data": {
      "text/plain": [
       "(4135, array([116, 149, 183, 192, 235]))"
      ]
     },
     "execution_count": 41,
     "metadata": {},
     "output_type": "execute_result"
    }
   ],
   "source": [
    "# val_img_ids = valdataset.get_image_id(np.arange(valdataset.size))\n",
    "# fiids = fullddata.get_image_id(np.arange(fullddata.size))\n",
    "# fiid_map = {fiid: i for i, fiid in enumerate(fiids)}\n",
    "# safe_ids = set(fiids.tolist()).intersection(set(val_img_ids.tolist()))\n",
    "# # inds = np.array([fiid_map[fiid] for fiid in safe_ids])\n",
    "# # inds.sort()\n",
    "# # save_json(inds.tolist(), 'save_inds.json')\n",
    "valinds = load_json('save_inds.json')\n",
    "valinds = np.array(valinds)\n",
    "len(valinds), valinds[:5]"
   ]
  },
  {
   "cell_type": "code",
   "execution_count": 29,
   "metadata": {},
   "outputs": [],
   "source": [
    "# imgdataset = SimpleCOCO(split='train',eval_split=-0.1)\n",
    "# imgdataset.prepare(device=device);\n",
    "# imgdataset.size"
   ]
  },
  {
   "cell_type": "code",
   "execution_count": 30,
   "metadata": {},
   "outputs": [],
   "source": [
    "# val_img_ids = imgdataset.get_image_id(np.arange(imgdataset.size))\n",
    "# fiids = fullddata.get_image_id(np.arange(fullddata.size))\n",
    "# fiid_map = {fiid: i for i, fiid in enumerate(fiids)}\n",
    "# safe_ids = set(fiids.tolist()).intersection(set(val_img_ids.tolist()))\n",
    "# len(safe_ids)"
   ]
  },
  {
   "cell_type": "code",
   "execution_count": 31,
   "metadata": {},
   "outputs": [],
   "source": [
    "# cl = CLIP()\n",
    "# cl.prepare(device=device);\n",
    "# cl._preprocess\n",
    "\n",
    "# IDs = np.array(list(idmap.keys()))\n",
    "# len(IDs)\n",
    "\n",
    "# paths = [Path('/data/felix/coco/full/val2017') / f'{str(i).zfill(12)}.jpg' for i in IDs.tolist()]\n",
    "# len(paths)\n",
    "\n",
    "# texts = fullddata.get_captions(picks)\n",
    "# images = cl.load_images(paths)\n",
    "# len(texts), len(images)\n",
    "\n",
    "# t_embs = []\n",
    "# i_embs = []\n",
    "\n",
    "# for i in range(0, len(texts), 100):\n",
    "#     with torch.no_grad():\n",
    "#         t_emb = cl.embed_text(texts[i:i+100])\n",
    "#         i_emb = cl.embed_images(images[i:i+100])\n",
    "#     t_embs.append(t_emb.cpu())\n",
    "#     i_embs.append(i_emb.cpu())\n",
    "# t_embs = torch.cat(t_embs)\n",
    "# i_embs = torch.cat(i_embs)\n",
    "# t_embs.shape, i_embs.shape\n",
    "# t_embs = t_embs / t_embs.norm(dim=-1, keepdim=True)\n",
    "# i_embs = i_embs / i_embs.norm(dim=-1, keepdim=True)\n",
    "# t_embs.shape, i_embs.shape\n",
    "# mat = t_embs @ i_embs.T\n",
    "# mat.shape"
   ]
  },
  {
   "cell_type": "code",
   "execution_count": 32,
   "metadata": {},
   "outputs": [],
   "source": [
    "# similarity_matrix = mat.cpu().double()\n",
    "# ex = similarity_matrix.mul(-1).exp()\n",
    "# total = ex.sum() - ex.diag().sum()\n",
    "# N = similarity_matrix.shape[0]\n",
    "# total.item() / (N * (N - 1))"
   ]
  },
  {
   "cell_type": "code",
   "execution_count": 52,
   "metadata": {},
   "outputs": [
    {
     "data": {
      "text/plain": [
       "Context({index}, {text_features}, {label}, {image_id}, {caption_id}, {caption}, {image}, {image_features}, {text_embedding}, {image_embedding}, {logits}, {logit_scale}, {positive_mean}, {negative_mean}, {loss}, {size})"
      ]
     },
     "execution_count": 52,
     "metadata": {},
     "output_type": "execute_result"
    }
   ],
   "source": [
    "inds = picks\n",
    "batch = Context(fullddata, model, DictGadget({'index': inds[:1000], 'size': len(inds)}))\n",
    "# batch = Context(valdataset, model, DictGadget({'index': valinds, 'size': len(valinds)}))\n",
    "batch"
   ]
  },
  {
   "cell_type": "code",
   "execution_count": 53,
   "metadata": {},
   "outputs": [
    {
     "data": {
      "text/plain": [
       "torch.Size([1000, 1000])"
      ]
     },
     "execution_count": 53,
     "metadata": {},
     "output_type": "execute_result"
    }
   ],
   "source": [
    "mat = batch['logits']\n",
    "mat.shape"
   ]
  },
  {
   "cell_type": "code",
   "execution_count": null,
   "metadata": {},
   "outputs": [],
   "source": []
  },
  {
   "cell_type": "code",
   "execution_count": 57,
   "metadata": {},
   "outputs": [
    {
     "data": {
      "text/plain": [
       "torch.Size([1000, 1000])"
      ]
     },
     "execution_count": 57,
     "metadata": {},
     "output_type": "execute_result"
    }
   ],
   "source": [
    "order = mat.sort(dim=1).indices.cpu()\n",
    "order = order - torch.arange(order.shape[1], device=order.device).unsqueeze(1)\n",
    "order %= order.shape[1]\n",
    "img_order = order.clone()\n",
    "\n",
    "order = mat.t().sort(dim=1).indices.cpu()\n",
    "order = order - torch.arange(order.shape[1], device=order.device).unsqueeze(1)\n",
    "order %= order.shape[1]\n",
    "text_order = order.clone()\n",
    "order.shape\n",
    "\n",
    "order.shape"
   ]
  },
  {
   "cell_type": "code",
   "execution_count": 60,
   "metadata": {},
   "outputs": [
    {
     "data": {
      "text/plain": [
       "torch.Size([1000, 80])"
      ]
     },
     "execution_count": 60,
     "metadata": {},
     "output_type": "execute_result"
    }
   ],
   "source": [
    "lbls = batch['label']\n",
    "tots = lbls[mat.max(dim=1).indices].float().unsqueeze(1) @ lbls.float().unsqueeze(2)\n",
    "tots = tots.squeeze()\n",
    "img_tots = tots.clone()\n",
    "\n",
    "tots = lbls[mat.t().max(dim=1).indices].float().unsqueeze(1) @ lbls.float().unsqueeze(2)\n",
    "tots = tots.squeeze()\n",
    "text_tots = tots.clone()\n",
    "lbls.shape"
   ]
  },
  {
   "cell_type": "code",
   "execution_count": 61,
   "metadata": {},
   "outputs": [
    {
     "name": "stdout",
     "output_type": "stream",
     "text": [
      "/data/felix/cache/checkpoints/clip128_coco_20250120_141247/ckpt_100000\n",
      "Metric             Value\n",
      "------------  ----------\n",
      "im-lab-exact   0.353\n",
      "im-lab-1       0.635\n",
      "im-lab-2       0.788\n",
      "tx-lab-exact   0.383\n",
      "tx-lab-1       0.626\n",
      "tx-lab-2       0.794\n",
      "im-ret1        0.073\n",
      "im-ret5        0.21\n",
      "im-ret10       0.324\n",
      "im-ret100      0.849\n",
      "tx-ret1        0.07\n",
      "tx-ret5        0.221\n",
      "tx-ret10       0.34\n",
      "tx-ret100      0.853\n",
      "alignment      0.859153\n",
      "uniformity    -0.0228051\n"
     ]
    }
   ],
   "source": [
    "scores = {\n",
    "    'im-lab-exact': img_tots.eq(lbls.sum(-1)).float().mean().item(),\n",
    "    'im-lab-1': img_tots.ge(lbls.sum(-1)-1).float().mean().item(),\n",
    "    'im-lab-2': img_tots.ge(lbls.sum(-1)-2).float().mean().item(),\n",
    "    'tx-lab-exact': text_tots.eq(lbls.sum(-1)).float().mean().item(),\n",
    "    'tx-lab-1': text_tots.ge(lbls.sum(-1)-1).float().mean().item(),\n",
    "    'tx-lab-2': text_tots.ge(lbls.sum(-1)-2).float().mean().item(),\n",
    "    'im-ret1': img_order[:, -1:].eq(0).sum(dim=1).float().mean().item(),\n",
    "    'im-ret5': img_order[:, -5:].eq(0).sum(dim=1).float().mean().item(),\n",
    "    'im-ret10': img_order[:, -10:].eq(0).sum(dim=1).float().mean().item(),\n",
    "    'im-ret100': img_order[:, -100:].eq(0).sum(dim=1).float().mean().item(),\n",
    "    'tx-ret1': text_order[:, -1:].eq(0).sum(dim=1).float().mean().item(),\n",
    "    'tx-ret5': text_order[:, -5:].eq(0).sum(dim=1).float().mean().item(),\n",
    "    'tx-ret10': text_order[:, -10:].eq(0).sum(dim=1).float().mean().item(),\n",
    "    'tx-ret100': text_order[:, -100:].eq(0).sum(dim=1).float().mean().item(),\n",
    "    'alignment': metrics.compute_alignment(mat),\n",
    "    'uniformity': np.log(metrics.compute_uniformity(mat)).item(),\n",
    "}\n",
    "print(loc)\n",
    "print(tabulate(scores.items(), headers=['Metric', 'Value']))"
   ]
  },
  {
   "cell_type": "code",
   "execution_count": null,
   "metadata": {},
   "outputs": [],
   "source": []
  },
  {
   "cell_type": "code",
   "execution_count": 11,
   "metadata": {},
   "outputs": [
    {
     "data": {
      "text/plain": [
       "(COCO[25014](index, text_features, label, image_id, caption_id, caption, image, image_features),\n",
       " 5000)"
      ]
     },
     "execution_count": 11,
     "metadata": {},
     "output_type": "execute_result"
    }
   ],
   "source": [
    "fullddata = COCO(eval_split=None, split='val', dataroot=syscfg.pull('dataroot'))\n",
    "fullddata.prepare(device=device);\n",
    "fiids = fullddata.get_image_id(np.arange(fullddata.size))\n",
    "idmap = {}\n",
    "for i, im in enumerate(fiids.tolist()):\n",
    "    idmap.setdefault(im, []).append(i)\n",
    "picks = np.array([options[0] for options in idmap.values()])\n",
    "fullddata, len(picks)"
   ]
  },
  {
   "cell_type": "code",
   "execution_count": 90,
   "metadata": {},
   "outputs": [],
   "source": [
    "ckptname = 'ckpt_020000'\n",
    "ckptroot = '/ssd/felix/cache/checkpoints/'\n",
    "ignore_names = {'pretrained-clip', 'partial', 'random'}\n",
    "def get_ckpt_path(name):\n",
    "    if name in ignore_names:\n",
    "        return None\n",
    "    return Path(ckptroot).joinpath(name,ckptname)\n",
    "def load_config(name):\n",
    "    if name == 'random':\n",
    "        return fig.create_config(*'h/ws2 a/wide m/clip d/coco-full'.split(), **{'batch-size': 1024, 'latent-dim': 512})\n",
    "    if name == 'partial':\n",
    "        return fig.create_config(*'h/ws2 a/wide m/clip d/coco-full'.split(), **{'batch-size': 1024, 'load-text-encoder': '/ssd/felix/cache/checkpoints/sae512_cococap_20250125_114125/ckpt_100000/model-encoder.pt', 'load-image-encoder': '/ssd/felix/cache/checkpoints/sae512_coco_20250124_164611/ckpt_100000/model-encoder.pt', 'latent-dim': 512})\n",
    "    if name == ignore_names:\n",
    "        return None\n",
    "    loc = get_ckpt_path(name).joinpath('config.yaml')\n",
    "    assert loc.exists()\n",
    "    return fig.create_config(str(loc))\n",
    "clip_fine_tune = [\n",
    "    'clip512_coco_20250126_134753', # soft-donkey-47 1024\n",
    "    'clip512_coco_20250126_172831', # effortless-deluge-69 2048\n",
    "    'clip512_coco_20250126_164749', # dandy-night-63 4096\n",
    "    'clip512_coco_20250126_163952', # misunderstood-elevator-62 8192\n",
    "    'clip512_coco_20250126_161408', # smart-yogurt-60 16384\n",
    "    'clip512_coco_20250126_153532', # warm-wind-58 32768\n",
    "    'clip512_coco_20250126_151328', # divine-wind-57 65536\n",
    "    'clip512_coco_20250126_184210', # pious-dust-76 131072\n",
    "    'clip512_coco_20250126_220651', # wandering-dragon-82 262144\n",
    "    'clip512_coco_20250126_221441', # rural-shape-84 full\n",
    "]\n",
    "clip_ref = [\n",
    "    # 'clip512_coco_20250126_145615', # solar-durian-48 1048\n",
    "    'clip512_coco_20250127_120641', # olive-moon-87 1024\n",
    "    'clip512_coco_20250126_145714', # twilight-breeze-49\n",
    "    'clip512_coco_20250126_145802', # faithful-firefly-50\n",
    "    'clip512_coco_20250126_145902', # firm-elevator-51\n",
    "    'clip512_coco_20250126_145930', # good-serenity-52\n",
    "    'clip512_coco_20250126_150309', # cool-silence-53\n",
    "    'clip512_coco_20250126_150328', # noble-fog-54\n",
    "    'clip512_coco_20250126_172334', # sage-donkey-68\n",
    "    'clip512_coco_20250126_182031', # northern-planet-74\n",
    "    # 'clip512_coco_20250126_172144', # young-serenity-66\n",
    "    'clip512_coco_20250127_121723', # spring-terrain-88\n",
    "]\n",
    "clip_full = {\n",
    "    # 'clip512_coco_20250126_000805': 'full-cyclip', # full-cyclip\n",
    "    'clip512_coco_20250127_121723': 'full-clip', # spring-terrain-88\n",
    "    # 'pretrained-clip': 'pretrained-clip',\n",
    "    'clip512_coco_20250127_164111': 'full-cyclip',\n",
    "    'partial': 'partial',\n",
    "    'clip512_coco_20250126_184210': '131072',\n",
    "    'clip512_coco_20250126_220651': '262144',\n",
    "    'clip512_coco_20250126_151328': '65536',\n",
    "    'random': 'random',\n",
    "}\n",
    "all_models = clip_fine_tune + clip_ref\n",
    "# all_models = list(clip_full.keys())\n"
   ]
  },
  {
   "cell_type": "code",
   "execution_count": 91,
   "metadata": {},
   "outputs": [
    {
     "data": {
      "application/vnd.jupyter.widget-view+json": {
       "model_id": "a7f9f4f057e64d49a86e3a826425a361",
       "version_major": 2,
       "version_minor": 0
      },
      "text/plain": [
       "  0%|          | 0/20 [00:00<?, ?it/s]"
      ]
     },
     "metadata": {},
     "output_type": "display_data"
    },
    {
     "data": {
      "text/plain": [
       "{'clip512_coco_20250126_134753': 1024,\n",
       " 'clip512_coco_20250126_172831': 2048,\n",
       " 'clip512_coco_20250126_164749': 4096,\n",
       " 'clip512_coco_20250126_163952': 8192,\n",
       " 'clip512_coco_20250126_161408': 16384,\n",
       " 'clip512_coco_20250126_153532': 32768,\n",
       " 'clip512_coco_20250126_151328': 65536,\n",
       " 'clip512_coco_20250126_184210': 131072,\n",
       " 'clip512_coco_20250126_220651': 262144,\n",
       " 'clip512_coco_20250126_221441': 532578,\n",
       " 'clip512_coco_20250127_120641': 1024,\n",
       " 'clip512_coco_20250126_145714': 2048,\n",
       " 'clip512_coco_20250126_145802': 4096,\n",
       " 'clip512_coco_20250126_145902': 8192,\n",
       " 'clip512_coco_20250126_145930': 16384,\n",
       " 'clip512_coco_20250126_150309': 32768,\n",
       " 'clip512_coco_20250126_150328': 65536,\n",
       " 'clip512_coco_20250126_172334': 131072,\n",
       " 'clip512_coco_20250126_182031': 262144,\n",
       " 'clip512_coco_20250127_121723': 532578}"
      ]
     },
     "execution_count": 91,
     "metadata": {},
     "output_type": "execute_result"
    }
   ],
   "source": [
    "def get_dataset_size(name):\n",
    "    if name == 'pretrained-clip':\n",
    "        return None\n",
    "    return load_config(name).pull('dataset', silent=True).size\n",
    "sizes = {name: get_dataset_size(name) for name in tqdm(all_models)}\n",
    "full_size = sizes[clip_ref[-1]]\n",
    "assert full_size > 500000\n",
    "sizes"
   ]
  },
  {
   "cell_type": "code",
   "execution_count": 92,
   "metadata": {},
   "outputs": [
    {
     "data": {
      "application/vnd.jupyter.widget-view+json": {
       "model_id": "ad4f0c5728d545548748017ec0377c65",
       "version_major": 2,
       "version_minor": 0
      },
      "text/plain": [
       "  0%|          | 0/20 [00:00<?, ?it/s]"
      ]
     },
     "metadata": {},
     "output_type": "display_data"
    }
   ],
   "source": [
    "traindata = COCO(split='train', eval_split=0.1, dataroot=syscfg.pull('dataroot')).prepare(device=device)\n",
    "valdata = traindata.as_eval().prepare(device=device)\n",
    "def load_model(name):\n",
    "    if name == 'pretrained-clip':\n",
    "        pclip = PretrainedCLIP()\n",
    "        pclip.gauge_apply(dict(similarity_matrix='logits', text='caption'))\n",
    "        pclip.prepare(device=device);\n",
    "        for p in pclip.parameters():\n",
    "            p.requires_grad = False\n",
    "        return pclip\n",
    "    conf = load_config(name)\n",
    "    trainer = conf.pull('trainer', silent=True)\n",
    "    model = trainer.model\n",
    "    system = Structured(traindata, *trainer.gadgetry())\n",
    "    system.mechanize() # sync for gears and spaces\n",
    "    mech = system.mechanics()\n",
    "    model.prepare(device=device);\n",
    "    ckpt = get_ckpt_path(name)\n",
    "    if ckpt is not None:\n",
    "        model.load_checkpoint(path=get_ckpt_path(name).joinpath('model.pt'));\n",
    "    else:\n",
    "        print(f'No checkpoint found for {name}')\n",
    "    model._mechanics = None\n",
    "    traindata._mechanics = None\n",
    "    for p in model.parameters():\n",
    "        p.requires_grad = False\n",
    "    return model\n",
    "models_cache = {name: load_model(name) for name in tqdm(all_models)}\n",
    "pclip = None\n",
    "def get_context(name, dataset, *base_tools):\n",
    "    if name == 'pretrained-clip':\n",
    "        global pclip\n",
    "        if pclip is None:\n",
    "            pclip = load_model(name)\n",
    "        @tool('image_path')\n",
    "        def get_image_path(image_id):\n",
    "            paths = [dataset.dataroot.joinpath(f'{dataset.split}2017', f'{str(iid).zfill(12)}.jpg') for iid in image_id]\n",
    "            return paths\n",
    "        return Context(pclip, get_image_path, dataset, *base_tools, DictGadget({'index': inds, 'size': len(inds), 'name': 'pretrained-clip'}))\n",
    "    model = models_cache[name] if name in models_cache else load_model(name)\n",
    "    return Context(model, dataset, *base_tools)"
   ]
  },
  {
   "cell_type": "code",
   "execution_count": 93,
   "metadata": {},
   "outputs": [
    {
     "data": {
      "text/plain": [
       "11875"
      ]
     },
     "execution_count": 93,
     "metadata": {},
     "output_type": "execute_result"
    }
   ],
   "source": [
    "viids = valdata.get_image_id(np.arange(valdata.size))\n",
    "vidmap = {}\n",
    "for i, im in enumerate(viids.tolist()):\n",
    "    vidmap.setdefault(im, []).append(i)\n",
    "vpicks = np.array([options[0] for options in vidmap.values()])\n",
    "len(vpicks)"
   ]
  },
  {
   "cell_type": "code",
   "execution_count": 94,
   "metadata": {},
   "outputs": [],
   "source": [
    "class LabelBasedRetrieval(Machine):\n",
    "    @tool('matches_stats')\n",
    "    def compute_label_matches(self, similarity_matrix, label):\n",
    "        mat = label[similarity_matrix.max(dim=1).indices].float().unsqueeze(1) @ label.float().unsqueeze(2)\n",
    "        return mat.squeeze()\n",
    "    \n",
    "    @tool('exact')\n",
    "    def compute_exact(self, matches_stats, label):\n",
    "        return matches_stats.eq(label.sum(-1)).float().mean().item()\n",
    "    \n",
    "    @tool('off_by_1')\n",
    "    def compute_off_by_1(self, matches_stats, label):\n",
    "        return matches_stats.ge(label.sum(-1)-1).float().mean().item()\n",
    "    \n",
    "    @tool('off_by_2')\n",
    "    def compute_off_by_2(self, matches_stats, label):\n",
    "        return matches_stats.ge(label.sum(-1)-2).float().mean().item()"
   ]
  },
  {
   "cell_type": "code",
   "execution_count": 95,
   "metadata": {},
   "outputs": [],
   "source": [
    "def get_gadgets():\n",
    "    img_metrics = AlignmentMetrics()\n",
    "    img_metrics.gauge_apply(dict(similarity_matrix='logits'))\n",
    "    img_metrics.prepare(device=device);\n",
    "    img_metrics = Mechanism([AlignmentMetrics(), LabelBasedRetrieval()],\n",
    "                            internal={'similarity_matrix': 'logits', 'label': 'label'},\n",
    "                            external={'alignment': 'alignment', 'uniformity': 'uniformity',\n",
    "                                    'exact': 'img_exact', 'off_by_1': 'img_off_by_1', 'off_by_2': 'img_off_by_2',\n",
    "                                'retrieval_order': 'img_order', 'ret1': 'img_ret1', 'ret5': 'img_ret5', 'ret10': 'img_ret10'},)\n",
    "    @tool('logits_T')\n",
    "    def transposer(logits): return logits.t()\n",
    "    text_metrics = Mechanism([AlignmentMetrics(), LabelBasedRetrieval(), transposer],\n",
    "                            internal={'similarity_matrix': 'logits_T', 'label': 'label', 'logits': 'logits'},\n",
    "                            external={'exact': 'text_exact', 'off_by_1': 'text_off_by_1', 'off_by_2': 'text_off_by_2',\n",
    "                                'retrieval_order': 'text_order', 'ret1': 'text_ret1', 'ret5': 'text_ret5', 'ret10': 'text_ret10'},)\n",
    "    text_metrics.prepare(device=device);\n",
    "    yield img_metrics\n",
    "    yield text_metrics"
   ]
  },
  {
   "cell_type": "code",
   "execution_count": 96,
   "metadata": {},
   "outputs": [],
   "source": [
    "\n",
    "dataset, full_inds = valdata, vpicks\n",
    "# dataset, full_inds = valdata, np.arange(1000)\n",
    "dataset, full_inds = fullddata, picks\n",
    "inds = full_inds[:1000]\n"
   ]
  },
  {
   "cell_type": "code",
   "execution_count": 97,
   "metadata": {},
   "outputs": [
    {
     "data": {
      "application/vnd.jupyter.widget-view+json": {
       "model_id": "7689278dc6014b8fb9e1d41b4c5a44da",
       "version_major": 2,
       "version_minor": 0
      },
      "text/plain": [
       "Batch 1/5:   0%|          | 0/10 [00:00<?, ?it/s]"
      ]
     },
     "metadata": {},
     "output_type": "display_data"
    },
    {
     "data": {
      "application/vnd.jupyter.widget-view+json": {
       "model_id": "8f2a1f355df545eb987d677542eb7e37",
       "version_major": 2,
       "version_minor": 0
      },
      "text/plain": [
       "Batch 2/5:   0%|          | 0/10 [00:00<?, ?it/s]"
      ]
     },
     "metadata": {},
     "output_type": "display_data"
    },
    {
     "data": {
      "application/vnd.jupyter.widget-view+json": {
       "model_id": "ae6d2af38ba046539608eb32586a12fd",
       "version_major": 2,
       "version_minor": 0
      },
      "text/plain": [
       "Batch 3/5:   0%|          | 0/10 [00:00<?, ?it/s]"
      ]
     },
     "metadata": {},
     "output_type": "display_data"
    },
    {
     "data": {
      "application/vnd.jupyter.widget-view+json": {
       "model_id": "ccd9c110b0b74747940d619f90005f79",
       "version_major": 2,
       "version_minor": 0
      },
      "text/plain": [
       "Batch 4/5:   0%|          | 0/10 [00:00<?, ?it/s]"
      ]
     },
     "metadata": {},
     "output_type": "display_data"
    },
    {
     "data": {
      "application/vnd.jupyter.widget-view+json": {
       "model_id": "77299f9f66764aedbfc3f03f177c5a21",
       "version_major": 2,
       "version_minor": 0
      },
      "text/plain": [
       "Batch 5/5:   0%|          | 0/10 [00:00<?, ?it/s]"
      ]
     },
     "metadata": {},
     "output_type": "display_data"
    }
   ],
   "source": [
    "num_batches = 5\n",
    "batch_size = 1000\n",
    "\n",
    "keys = [ \n",
    "    'alignment', 'uniformity', \n",
    "    'img_exact', \n",
    "    'img_ret1', 'img_ret5', 'img_ret10', \n",
    "    'text_exact', \n",
    "    'text_ret1', 'text_ret5', 'text_ret10',\n",
    "]\n",
    "\n",
    "results = {}\n",
    "for i in range(num_batches):\n",
    "    sel = full_inds[i*batch_size:(i+1)*batch_size]\n",
    "    assert len(sel) == batch_size\n",
    "    ctxs = [get_context(name, dataset, *get_gadgets(),\n",
    "                DictGadget({'index': sel, 'size': len(sel), 'name': name, 'ds_size': sizes[name]})) \n",
    "        for name in all_models]\n",
    "    \n",
    "    for k in tqdm(keys, desc=f'Batch {i+1}/{num_batches}'):\n",
    "        for ctx in ctxs:\n",
    "            results.setdefault(k, {}).setdefault(ctx['name'], []).append(ctx[k])"
   ]
  },
  {
   "cell_type": "code",
   "execution_count": 98,
   "metadata": {},
   "outputs": [
    {
     "name": "stdout",
     "output_type": "stream",
     "text": [
      "Model                           Size    alignment    uniformity    img_exact    img_ret1    img_ret5    img_ret10    text_exact    text_ret1    text_ret5    text_ret10\n",
      "----------------------------  ------  -----------  ------------  -----------  ----------  ----------  -----------  ------------  -----------  -----------  ------------\n",
      "clip512_coco_20250126_134753    1024     0.311048   -0.0278011        0.3262      0.0426      0.1404       0.2324        0.297        0.0354       0.127         0.2068\n",
      "clip512_coco_20250126_172831    2048     0.352586   -0.0344431        0.3666      0.0582      0.1872       0.2974        0.3492       0.0524       0.1726        0.2678\n",
      "clip512_coco_20250126_164749    4096     0.383921   -0.0379354        0.3916      0.0704      0.2182       0.335         0.3708       0.0642       0.2032        0.3206\n",
      "clip512_coco_20250126_163952    8192     0.409798   -0.0399219        0.4004      0.0768      0.2364       0.3648        0.3978       0.0754       0.239         0.3662\n",
      "clip512_coco_20250126_161408   16384     0.452256   -0.0353431        0.3966      0.0888      0.268        0.3938        0.3932       0.0816       0.264         0.389\n",
      "clip512_coco_20250126_153532   32768     0.463559   -0.030415         0.4234      0.1172      0.317        0.4458        0.4208       0.104        0.3138        0.438\n",
      "clip512_coco_20250126_151328   65536     0.502173   -0.0254721        0.452       0.144       0.3702       0.503         0.4618       0.1396       0.3698        0.5028\n",
      "clip512_coco_20250126_184210  131072     0.522801   -0.0124817        0.488       0.1734      0.424        0.5678        0.4936       0.1718       0.4434        0.576\n",
      "clip512_coco_20250126_220651  262144     0.536365   -0.013041         0.4886      0.1734      0.4334       0.577         0.5032       0.185        0.4516        0.596\n",
      "clip512_coco_20250126_221441  532578     0.527403   -0.0121224        0.5134      0.2038      0.483        0.6244        0.526        0.2148       0.5008        0.642\n",
      "clip512_coco_20250127_120641    1024     0.293024   -0.00848371       0.1962      0.02        0.0774       0.1286        0.1884       0.0188       0.0768        0.1318\n",
      "clip512_coco_20250126_145714    2048     0.296261   -0.0195516        0.2414      0.0374      0.117        0.1854        0.251        0.0362       0.1166        0.185\n",
      "clip512_coco_20250126_145802    4096     0.325674   -0.022204         0.2474      0.0384      0.1396       0.2124        0.2514       0.0394       0.1344        0.2142\n",
      "clip512_coco_20250126_145902    8192     0.345755   -0.0283729        0.2968      0.0602      0.1826       0.2744        0.298        0.0562       0.1738        0.2692\n",
      "clip512_coco_20250126_145930   16384     0.37979    -0.0345707        0.3296      0.0738      0.2224       0.3292        0.3244       0.0696       0.2192        0.3152\n",
      "clip512_coco_20250126_150309   32768     0.376483   -0.0257119        0.3568      0.0876      0.2658       0.383         0.3642       0.0846       0.2556        0.3824\n",
      "clip512_coco_20250126_150328   65536     0.375501   -0.0163191        0.394       0.1122      0.3194       0.444         0.3942       0.1072       0.3078        0.4344\n",
      "clip512_coco_20250126_172334  131072     0.359269   -0.00607945       0.4378      0.144       0.3768       0.5108        0.4498       0.1484       0.373         0.509\n",
      "clip512_coco_20250126_182031  262144     0.346944   -0.0115246        0.4646      0.1638      0.4052       0.5442        0.4666       0.1578       0.4062        0.546\n",
      "clip512_coco_20250127_121723  532578     0.373578   -0.0303855        0.4922      0.2008      0.4672       0.6094        0.5036       0.2          0.4598        0.5998\n"
     ]
    }
   ],
   "source": [
    "means = {key: {name: np.array(vals).mean().item() for name, vals in res.items()} for key, res in results.items()}\n",
    "# means\n",
    "by_model = {name: [vals[name] for vals in means.values()] for name in all_models}\n",
    "\n",
    "# Model                           Size    alignment    uniformity    img_exact    img_ret1    img_ret5    img_ret10    text_exact    text_ret1    text_ret5    text_ret10\n",
    "# ----------------------------  ------  -----------  ------------  -----------  ----------  ----------  -----------  ------------  -----------  -----------  ------------\n",
    "# batchsize = 100\n",
    "# partial                       532578     0.060779   -0.00701565      0.15078       0.076       0.248        0.404       0.16992         0.12          0.4          0.58\n",
    "# random                        532578    0.0154365    -0.0124898       0.0873       0.002       0.048        0.094       0.08386         0.01         0.06         0.112\n",
    "# pretrained-clip                          0.302246    -0.156726       0.18784       0.706       0.94         0.982       0.18596        0.67         0.916          0.98\n",
    "# clip512_coco_20250127_121723  532578     0.372171    -0.0323588      0.18652       0.516       0.838        0.948       0.1873         0.506        0.85           0.94\n",
    "# clip-full\n",
    "# clip512_coco_20250127_164111  532578     0.381736    -0.0536373      0.183         0.506       0.844        0.942        0.1823        0.528        0.846         0.938\n",
    "# cyclip-full\n",
    "# clip512_coco_20250126_220651  262144     0.517721    0.00650013      0.19342       0.5         0.84          0.94       0.19216        0.518        0.852         0.946\n",
    "# fine-tuned 262k\n",
    "# clip512_coco_20250126_184210  131072     0.519887   -0.00766522      0.1922        0.478       0.834         0.93       0.1931         0.482        0.846         0.924\n",
    "# fine-tuned 132k\n",
    "# clip512_coco_20250126_151328   65536     0.472632    0.00693376      0.19598       0.476       0.828        0.924       0.18716        0.456        0.838         0.928\n",
    "# fine-tuned 65k\n",
    "############################\n",
    "# batchsize = 1000\n",
    "# Model                           Size    alignment    uniformity    img_exact    img_ret1    img_ret5    img_ret10    text_exact    text_ret1    text_ret5    text_ret10\n",
    "# ----------------------------  ------  -----------  ------------  -----------  ----------  ----------  -----------  ------------  -----------  -----------  ------------\n",
    "# clip512_coco_20250127_121723  532578   0.373578     -0.0303855        0.4922      0.2008      0.4672       0.6094        0.5036       0.2          0.4598        0.5998\n",
    "# clip-full\n",
    "# pretrained-clip                        0.30293      -0.155952         0.6652      0.4154      0.6824       0.7802        0.6338       0.375        0.6422        0.7558\n",
    "# clip512_coco_20250127_164111  532578   0.387153     -0.0553075        0.494       0.2048      0.4804       0.6198        0.5054       0.2006       0.4708        0.6124\n",
    "# full-cyclip\n",
    "# partial                       532578   0.0583965    -0.00608182       0.1854      0.0096      0.0452       0.0808        0.2722       0.0206       0.0852        0.1432\n",
    "# clip512_coco_20250126_184210  131072   0.522801     -0.0124817        0.488       0.1734      0.424        0.5678        0.4936       0.1718       0.4434        0.576\n",
    "# clip512_coco_20250126_220651  262144   0.536365     -0.013041         0.4886      0.1734      0.4334       0.577         0.5032       0.185        0.4516        0.596\n",
    "# clip512_coco_20250126_151328   65536   0.502173     -0.0254721        0.452       0.144       0.3702       0.503         0.4618       0.1396       0.3698        0.5028\n",
    "# random                        532578  -0.00461833    0.00524163       0.0414      0.0014      0.0058       0.0098        0.033        0.0014       0.0048        0.0102\n",
    "\n",
    "# Model                           Size    alignment    uniformity    img_exact    img_ret1    img_ret5    img_ret10    text_exact    text_ret1    text_ret5    text_ret10\n",
    "# ----------------------------  ------  -----------  ------------  -----------  ----------  ----------  -----------  ------------  -----------  -----------  ------------\n",
    "# fine-tuned\n",
    "# clip512_coco_20250126_134753    1024     0.311048   -0.0278011        0.3262      0.0426      0.1404       0.2324        0.297        0.0354       0.127         0.2068\n",
    "# clip512_coco_20250126_172831    2048     0.352586   -0.0344431        0.3666      0.0582      0.1872       0.2974        0.3492       0.0524       0.1726        0.2678\n",
    "# clip512_coco_20250126_164749    4096     0.383921   -0.0379354        0.3916      0.0704      0.2182       0.335         0.3708       0.0642       0.2032        0.3206\n",
    "# clip512_coco_20250126_163952    8192     0.409798   -0.0399219        0.4004      0.0768      0.2364       0.3648        0.3978       0.0754       0.239         0.3662\n",
    "# clip512_coco_20250126_161408   16384     0.452256   -0.0353431        0.3966      0.0888      0.268        0.3938        0.3932       0.0816       0.264         0.389\n",
    "# clip512_coco_20250126_153532   32768     0.463559   -0.030415         0.4234      0.1172      0.317        0.4458        0.4208       0.104        0.3138        0.438\n",
    "# clip512_coco_20250126_151328   65536     0.502173   -0.0254721        0.452       0.144       0.3702       0.503         0.4618       0.1396       0.3698        0.5028\n",
    "# clip512_coco_20250126_184210  131072     0.522801   -0.0124817        0.488       0.1734      0.424        0.5678        0.4936       0.1718       0.4434        0.576\n",
    "# clip512_coco_20250126_220651  262144     0.536365   -0.013041         0.4886      0.1734      0.4334       0.577         0.5032       0.185        0.4516        0.596\n",
    "# clip512_coco_20250126_221441  532578     0.527403   -0.0121224        0.5134      0.2038      0.483        0.6244        0.526        0.2148       0.5008        0.642\n",
    "# clip only\n",
    "# clip512_coco_20250127_120641    1024     0.293024   -0.00848371       0.1962      0.02        0.0774       0.1286        0.1884       0.0188       0.0768        0.1318\n",
    "# clip512_coco_20250126_145714    2048     0.296261   -0.0195516        0.2414      0.0374      0.117        0.1854        0.251        0.0362       0.1166        0.185\n",
    "# clip512_coco_20250126_145802    4096     0.325674   -0.022204         0.2474      0.0384      0.1396       0.2124        0.2514       0.0394       0.1344        0.2142\n",
    "# clip512_coco_20250126_145902    8192     0.345755   -0.0283729        0.2968      0.0602      0.1826       0.2744        0.298        0.0562       0.1738        0.2692\n",
    "# clip512_coco_20250126_145930   16384     0.37979    -0.0345707        0.3296      0.0738      0.2224       0.3292        0.3244       0.0696       0.2192        0.3152\n",
    "# clip512_coco_20250126_150309   32768     0.376483   -0.0257119        0.3568      0.0876      0.2658       0.383         0.3642       0.0846       0.2556        0.3824\n",
    "# clip512_coco_20250126_150328   65536     0.375501   -0.0163191        0.394       0.1122      0.3194       0.444         0.3942       0.1072       0.3078        0.4344\n",
    "# clip512_coco_20250126_172334  131072     0.359269   -0.00607945       0.4378      0.144       0.3768       0.5108        0.4498       0.1484       0.373         0.509\n",
    "# clip512_coco_20250126_182031  262144     0.346944   -0.0115246        0.4646      0.1638      0.4052       0.5442        0.4666       0.1578       0.4062        0.546\n",
    "# clip512_coco_20250127_121723  532578     0.373578   -0.0303855        0.4922      0.2008      0.4672       0.6094        0.5036       0.2          0.4598        0.5998\n",
    "\n",
    "print(tabulate([(name, sizes[name], *vals) for name, vals in by_model.items()], headers=['Model', 'Size', *means.keys()]))"
   ]
  },
  {
   "cell_type": "code",
   "execution_count": 99,
   "metadata": {},
   "outputs": [],
   "source": [
    "\n",
    "import matplotlib.patches as mpatches\n",
    "\n",
    "# increase default font size\n",
    "plt.rcParams.update({'font.size': 15})"
   ]
  },
  {
   "cell_type": "code",
   "execution_count": 102,
   "metadata": {},
   "outputs": [
    {
     "data": {
      "image/png": "[encoded data removed]",
      "text/plain": [
       "<Figure size 640x480 with 1 Axes>"
      ]
     },
     "metadata": {},
     "output_type": "display_data"
    }
   ],
   "source": [
    "key = 'text_ret1'\n",
    "\n",
    "keys = ['img_ret1', 'img_ret5', 'img_ret10', 'text_ret1', 'text_ret5', 'text_ret10',]# 'img_exact', 'text_exact']\n",
    "# keys = ['img_ret1', 'img_ret5', 'img_ret10', ]#'text_ret1', 'text_ret5', 'text_ret10',]\n",
    "# keys = ['text_ret1', 'text_ret5', 'text_ret10',]\n",
    "\n",
    "fig_name, keys = 'text', ['text_ret1', 'text_ret5', 'text_ret10',]\n",
    "# fig_name, keys = 'img', ['img_ret1', 'img_ret5', 'img_ret10',]\n",
    "\n",
    "key_colors = {\n",
    "    'img_ret1': 'C0',\n",
    "    'img_ret5': 'C1',\n",
    "    'img_ret10': 'C2',\n",
    "    'text_ret1': 'C3',\n",
    "    'text_ret5': 'C9',\n",
    "    'text_ret10': 'C5',\n",
    "}\n",
    "\n",
    "key_titles = {\n",
    "    'img_ret1': 'Image Retrieval @1',\n",
    "    'img_ret5': 'Image Retrieval @5',\n",
    "    'img_ret10': 'Image Retrieval @10',\n",
    "    'text_ret1': 'Text Retrieval @1',\n",
    "    'text_ret5': 'Text Retrieval @5',\n",
    "    'text_ret10': 'Text Retrieval @10',\n",
    "}\n",
    "key_titles = {\n",
    "    'img_ret1': 'Img. R@1',\n",
    "    'img_ret5': 'Img. R@5',\n",
    "    'img_ret10': 'Img. R@10',\n",
    "    'text_ret1': 'Txt. R@1',\n",
    "    'text_ret5': 'Txt. R@5',\n",
    "    'text_ret10': 'Txt. R@10',\n",
    "}\n",
    "\n",
    "xticks = [1/(4**i) for i in range(5)][::-1]\n",
    "# xticks = xs[::2] + [1]\n",
    "# xticks = [int(x*full_size//1000*1000) for x in xticks]\n",
    "xticks = [int(x*full_size//1000*1000) for x in xticks]\n",
    "xticks = [2000, 8000, 32000, 128000, full_size]\n",
    "\n",
    "xtick_names = [f'{x//1000}k' for x in xticks]\n",
    "xtick_names[-1] = 'Full dataset'\n",
    "xticks = [x for x in xticks]\n",
    "# vertical lines\n",
    "for x in xticks:\n",
    "    plt.axvline(x, c='k', lw=0.5, ls='--')\n",
    "\n",
    "def get_x(name):\n",
    "    return sizes[name] #/ full_size\n",
    "def get_y(name):\n",
    "    return means[key][name] * 100\n",
    "for i, key in enumerate(keys):\n",
    "    # c = f'C{i}'\n",
    "    c = key_colors[key]\n",
    "\n",
    "    xs = [get_x(name) for name in clip_fine_tune]\n",
    "    ys = [get_y(name) for name in clip_fine_tune]\n",
    "    plt.plot(xs, ys, c=c, marker='o',)\n",
    "    # with markers\n",
    "\n",
    "    xs = [get_x(name) for name in clip_ref]\n",
    "    ys = [get_y(name) for name in clip_ref]\n",
    "    plt.plot(xs, ys, ls='--', c=c, marker='s',)\n",
    "\n",
    "\n",
    "plt.xscale('log')\n",
    "\n",
    "plt.xticks(xticks, xtick_names)\n",
    "# plt.xticks( xs[::2] + [1], [f'{int(x*full_size//1000)}k' for x in xs[::2]] + ['full'])\n",
    "\n",
    "\n",
    "# plt.grid(True, which='both', axis='both', linestyle='--', linewidth=0.5)\n",
    "plt.grid(True, axis='y', linestyle='--', linewidth=0.5)\n",
    "\n",
    "\n",
    "# plt.legend(['fine-tune', 'reference'])\n",
    "# add a color patch to the legend C0 = img_ret5\n",
    "legend = [mpatches.Patch(color=key_colors[key], label=key_titles[key]) for i, key in enumerate(keys)]\n",
    "plt.legend(handles=legend)\n",
    "plt.xlabel('# of paired samples')\n",
    "plt.ylabel('Retrieval accuracy (%)')\n",
    "plt.tight_layout();\n",
    "plt.savefig(f'assets/{fig_name}_retrieval_accuracy.png', dpi=300)\n",
    "plt.savefig(f'assets/{fig_name}_retrieval_accuracy.pdf');"
   ]
  },
  {
   "cell_type": "code",
   "execution_count": null,
   "metadata": {},
   "outputs": [],
   "source": []
  },
  {
   "cell_type": "code",
   "execution_count": null,
   "metadata": {},
   "outputs": [],
   "source": [
    "# print(tabulate([(c['name'], c['ds_size'], c['alignment'], c['uniformity'], c['img_ret1'], c['img_ret5'], c['img_ret10'], c['img_exact']) for c in ctxs]),)"
   ]
  },
  {
   "cell_type": "code",
   "execution_count": 284,
   "metadata": {},
   "outputs": [
    {
     "data": {
      "text/plain": [
       "532578"
      ]
     },
     "execution_count": 284,
     "metadata": {},
     "output_type": "execute_result"
    }
   ],
   "source": [
    "full_size"
   ]
  },
  {
   "cell_type": "code",
   "execution_count": null,
   "metadata": {},
   "outputs": [],
   "source": [
    "ctxs = [get_context(name, dataset, img_metrics, text_metrics, \n",
    "                    DictGadget({'index': inds, 'size': len(inds), 'name': name, 'ds_size': sizes[name]})) \n",
    "            for name in tqdm(all_models)]\n",
    "len(ctxs), fullddata.size"
   ]
  },
  {
   "cell_type": "code",
   "execution_count": 115,
   "metadata": {},
   "outputs": [
    {
     "data": {
      "text/plain": [
       "Context({text_embedding}, {image_embedding}, {logits}, {logit_scale}, {positive_mean}, {negative_mean}, {loss}, {index}, {text_features}, {label}, {image_id}, {caption_id}, {caption}, {image}, {image_features}, {alignment}, {uniformity}, {img_order}, {img_ret1}, {img_ret5}, {img_ret10}, {img_exact}, {img_off_by_1}, {img_off_by_2}, {text_order}, {text_ret1}, {text_ret5}, {text_ret10}, {text_exact}, {text_off_by_1}, {text_off_by_2}, {size}, {name}, {ds_size})"
      ]
     },
     "execution_count": 115,
     "metadata": {},
     "output_type": "execute_result"
    }
   ],
   "source": [
    "ctx = ctxs[0]\n",
    "ctx"
   ]
  },
  {
   "cell_type": "code",
   "execution_count": 241,
   "metadata": {},
   "outputs": [
    {
     "name": "stdout",
     "output_type": "stream",
     "text": [
      "----------------------------  ------  --------  ------------  ----  ----  ----  ------\n",
      "clip512_coco_20250126_134753    1024  0.264761   0.00843104   0.24  0.6   0.71  0.1948\n",
      "clip512_coco_20250126_172831    2048  0.339893   0.00952499   0.33  0.66  0.88  0.1998\n",
      "clip512_coco_20250126_164749    4096  0.366695   0.00996199   0.33  0.72  0.93  0.2075\n",
      "clip512_coco_20250126_163952    8192  0.380057   0.0156673    0.34  0.75  0.92  0.203\n",
      "clip512_coco_20250126_161408   16384  0.404355   0.0130633    0.45  0.82  0.9   0.196\n",
      "clip512_coco_20250126_153532   32768  0.419287   0.0117828    0.46  0.84  0.94  0.1986\n",
      "clip512_coco_20250126_151328   65536  0.478283  -0.000456315  0.48  0.84  0.93  0.1937\n",
      "clip512_coco_20250126_184210  131072  0.522638  -0.0154677    0.48  0.82  0.95  0.1977\n",
      "clip512_coco_20250126_220651  262144  0.520325   0.000643409  0.49  0.83  0.94  0.1956\n",
      "clip512_coco_20250126_221441  532578  0.526608  -0.0159601    0.49  0.85  0.93  0.1944\n",
      "clip512_coco_20250127_120641    1024  0.29217    0.0172992    0.16  0.42  0.56  0.1665\n",
      "clip512_coco_20250126_145714    2048  0.311144   0.00967515   0.26  0.54  0.69  0.1703\n",
      "clip512_coco_20250126_145802    4096  0.329703   0.0129291    0.27  0.57  0.76  0.1926\n",
      "clip512_coco_20250126_145902    8192  0.323179   0.0118301    0.29  0.67  0.8   0.1845\n",
      "clip512_coco_20250126_145930   16384  0.367596   0.0103532    0.39  0.73  0.86  0.1845\n",
      "clip512_coco_20250126_150309   32768  0.361125   0.0218994    0.46  0.76  0.87  0.1865\n",
      "clip512_coco_20250126_150328   65536  0.358104   0.00924659   0.35  0.75  0.88  0.1889\n",
      "clip512_coco_20250126_172334  131072  0.354635  -0.00908989   0.42  0.72  0.91  0.1912\n",
      "clip512_coco_20250126_182031  262144  0.332211  -0.00694887   0.48  0.84  0.88  0.1828\n",
      "clip512_coco_20250127_121723  532578  0.372066  -0.0343876    0.54  0.84  0.93  0.1885\n",
      "----------------------------  ------  --------  ------------  ----  ----  ----  ------\n"
     ]
    }
   ],
   "source": []
  },
  {
   "cell_type": "code",
   "execution_count": 118,
   "metadata": {},
   "outputs": [
    {
     "name": "stdout",
     "output_type": "stream",
     "text": [
      "----------------------------  ------  --------  -----------  -----  -----  -----  --------\n",
      "clip512_coco_20250126_134753    1024  0.260533   0.00963861  0.056  0.175  0.265  0.182547\n",
      "clip512_coco_20250126_172831    2048  0.333426   0.00948589  0.082  0.247  0.364  0.198273\n",
      "clip512_coco_20250126_164749    4096  0.361588   0.011759    0.089  0.284  0.418  0.198375\n",
      "clip512_coco_20250126_163952    8192  0.379751   0.0165184   0.101  0.294  0.451  0.199161\n",
      "clip512_coco_20250126_161408   16384  0.410878   0.0130765   0.122  0.355  0.506  0.195722\n",
      "clip512_coco_20250126_153532   32768  0.418393   0.0160512   0.166  0.412  0.546  0.193874\n",
      "clip512_coco_20250126_151328   65536  0.468078   0.0126712   0.194  0.436  0.587  0.195629\n",
      "clip512_coco_20250126_184210  131072  0.514876  -0.00300093  0.199  0.443  0.577  0.198412\n",
      "clip512_coco_20250126_220651  262144  0.515111   0.0084977   0.201  0.473  0.608  0.198534\n",
      "clip512_coco_20250126_221441  532578  0.521112  -0.00679976  0.229  0.494  0.62   0.197797\n",
      "clip512_coco_20250127_120641    1024  0.303052   0.019644    0.033  0.123  0.194  0.164039\n",
      "clip512_coco_20250126_145714    2048  0.303439   0.010718    0.056  0.167  0.263  0.177617\n",
      "clip512_coco_20250126_145802    4096  0.329653   0.0143794   0.065  0.215  0.303  0.181758\n",
      "clip512_coco_20250126_145902    8192  0.344332   0.014517    0.098  0.277  0.401  0.189654\n",
      "clip512_coco_20250126_145930   16384  0.370408   0.0118255   0.111  0.326  0.443  0.192727\n",
      "clip512_coco_20250126_150309   32768  0.360213   0.0212697   0.14   0.368  0.508  0.190393\n",
      "clip512_coco_20250126_150328   65536  0.358693   0.0146269   0.146  0.378  0.506  0.193888\n",
      "clip512_coco_20250126_172334  131072  0.349671  -0.00069768  0.147  0.398  0.516  0.19497\n",
      "clip512_coco_20250126_182031  262144  0.332366  -0.00400125  0.178  0.427  0.561  0.194991\n",
      "clip512_coco_20250127_121723  532578  0.369386  -0.0293139   0.212  0.458  0.602  0.196875\n",
      "----------------------------  ------  --------  -----------  -----  -----  -----  --------\n"
     ]
    }
   ],
   "source": [
    "print(tabulate([(c['name'], c['ds_size'], c['alignment'], c['uniformity'], c['img_ret1'], c['img_ret5'], c['img_ret10'], c['img_exact']) for c in ctxs]),)"
   ]
  },
  {
   "cell_type": "code",
   "execution_count": 101,
   "metadata": {},
   "outputs": [
    {
     "data": {
      "text/plain": [
       "0.21076799929141998"
      ]
     },
     "execution_count": 101,
     "metadata": {},
     "output_type": "execute_result"
    }
   ],
   "source": [
    "ctx['img_exact']"
   ]
  },
  {
   "cell_type": "code",
   "execution_count": 102,
   "metadata": {},
   "outputs": [
    {
     "data": {
      "text/plain": [
       "'clip512_coco_20250126_134753'"
      ]
     },
     "execution_count": 102,
     "metadata": {},
     "output_type": "execute_result"
    }
   ],
   "source": [
    "ctx['name']"
   ]
  },
  {
   "cell_type": "code",
   "execution_count": 103,
   "metadata": {},
   "outputs": [
    {
     "data": {
      "text/plain": [
       "1024"
      ]
     },
     "execution_count": 103,
     "metadata": {},
     "output_type": "execute_result"
    }
   ],
   "source": [
    "ctx['ds_size']"
   ]
  },
  {
   "cell_type": "code",
   "execution_count": 104,
   "metadata": {},
   "outputs": [
    {
     "data": {
      "text/plain": [
       "0.1550000011920929"
      ]
     },
     "execution_count": 104,
     "metadata": {},
     "output_type": "execute_result"
    }
   ],
   "source": [
    "ctx['img_ret5']"
   ]
  },
  {
   "cell_type": "code",
   "execution_count": 105,
   "metadata": {},
   "outputs": [
    {
     "data": {
      "text/plain": [
       "(torch.Size([1000, 1000]), torch.Size([1000, 80]))"
      ]
     },
     "execution_count": 105,
     "metadata": {},
     "output_type": "execute_result"
    }
   ],
   "source": [
    "mat = ctx['logits']\n",
    "lbls = ctx['label']\n",
    "mat.shape, lbls.shape"
   ]
  },
  {
   "cell_type": "code",
   "execution_count": null,
   "metadata": {},
   "outputs": [],
   "source": []
  },
  {
   "cell_type": "code",
   "execution_count": 78,
   "metadata": {},
   "outputs": [],
   "source": [
    "tots = lbls[mat.max(dim=1).indices].float().unsqueeze(1) @ lbls.float().unsqueeze(2)\n",
    "tots = tots.squeeze()\n",
    "img_tots = tots.clone()\n",
    "    # 'tx-lab-exact': text_tots.eq(lbls.sum(-1)).float().mean().item(),\n",
    "    # 'tx-lab-1': text_tots.ge(lbls.sum(-1)-1).float().mean().item(),\n",
    "    # 'tx-lab-2': text_tots.ge(lbls.sum(-1)-2).float().mean().item(),\n",
    "img_tots"
   ]
  },
  {
   "cell_type": "code",
   "execution_count": 52,
   "metadata": {},
   "outputs": [
    {
     "data": {
      "text/plain": [
       "tensor([[ 0.4541,  0.2217,  0.2023,  ..., -0.2450,  0.1268, -0.0092],\n",
       "        [ 0.3175,  0.5004,  0.0729,  ..., -0.1180,  0.0395,  0.0201],\n",
       "        [ 0.0572,  0.0040,  0.4892,  ..., -0.0194, -0.1079, -0.1521],\n",
       "        ...,\n",
       "        [ 0.0981, -0.2405,  0.0280,  ...,  0.3269, -0.2042,  0.1680],\n",
       "        [-0.0970, -0.2312, -0.0285,  ..., -0.0241,  0.1823,  0.0694],\n",
       "        [ 0.1026,  0.0468,  0.0381,  ..., -0.0585,  0.2615,  0.4888]],\n",
       "       device='cuda:2')"
      ]
     },
     "execution_count": 52,
     "metadata": {},
     "output_type": "execute_result"
    }
   ],
   "source": [
    "ctx['logits']"
   ]
  },
  {
   "cell_type": "code",
   "execution_count": null,
   "metadata": {},
   "outputs": [],
   "source": []
  },
  {
   "cell_type": "code",
   "execution_count": null,
   "metadata": {},
   "outputs": [],
   "source": [
    "inds = picks\n",
    "batch = Context(fullddata, model, DictGadget({'index': inds[:1000], 'size': len(inds)}))"
   ]
  },
  {
   "cell_type": "code",
   "execution_count": null,
   "metadata": {},
   "outputs": [
    {
     "data": {
      "text/plain": [
       "torch.Size([1000, 1000])"
      ]
     },
     "metadata": {},
     "output_type": "display_data"
    }
   ],
   "source": [
    "order = mat.sort(dim=1).indices.cpu()\n",
    "order = order - torch.arange(order.shape[1], device=order.device).unsqueeze(1)\n",
    "order %= order.shape[1]\n",
    "img_order = order.clone()\n",
    "\n",
    "order = mat.t().sort(dim=1).indices.cpu()\n",
    "order = order - torch.arange(order.shape[1], device=order.device).unsqueeze(1)\n",
    "order %= order.shape[1]\n",
    "text_order = order.clone()\n",
    "order.shape\n",
    "\n",
    "order.shape"
   ]
  },
  {
   "cell_type": "code",
   "execution_count": null,
   "metadata": {},
   "outputs": [
    {
     "data": {
      "text/plain": [
       "torch.Size([1000, 80])"
      ]
     },
     "metadata": {},
     "output_type": "display_data"
    }
   ],
   "source": [
    "lbls = batch['label']\n",
    "tots = lbls[mat.max(dim=1).indices].float().unsqueeze(1) @ lbls.float().unsqueeze(2)\n",
    "tots = tots.squeeze()\n",
    "img_tots = tots.clone()\n",
    "\n",
    "tots = lbls[mat.t().max(dim=1).indices].float().unsqueeze(1) @ lbls.float().unsqueeze(2)\n",
    "tots = tots.squeeze()\n",
    "text_tots = tots.clone()\n",
    "lbls.shape"
   ]
  },
  {
   "cell_type": "code",
   "execution_count": null,
   "metadata": {},
   "outputs": [
    {
     "name": "stdout",
     "output_type": "stream",
     "text": [
      "/data/felix/cache/checkpoints/clip128_coco_20250120_141247/ckpt_100000\n",
      "Metric             Value\n",
      "------------  ----------\n",
      "im-lab-exact   0.353\n",
      "im-lab-1       0.635\n",
      "im-lab-2       0.788\n",
      "tx-lab-exact   0.383\n",
      "tx-lab-1       0.626\n",
      "tx-lab-2       0.794\n",
      "im-ret1        0.073\n",
      "im-ret5        0.21\n",
      "im-ret10       0.324\n",
      "im-ret100      0.849\n",
      "tx-ret1        0.07\n",
      "tx-ret5        0.221\n",
      "tx-ret10       0.34\n",
      "tx-ret100      0.853\n",
      "alignment      0.859153\n",
      "uniformity    -0.0228051\n"
     ]
    }
   ],
   "source": [
    "scores = {\n",
    "    'im-lab-exact': img_tots.eq(lbls.sum(-1)).float().mean().item(),\n",
    "    'im-lab-1': img_tots.ge(lbls.sum(-1)-1).float().mean().item(),\n",
    "    'im-lab-2': img_tots.ge(lbls.sum(-1)-2).float().mean().item(),\n",
    "    'tx-lab-exact': text_tots.eq(lbls.sum(-1)).float().mean().item(),\n",
    "    'tx-lab-1': text_tots.ge(lbls.sum(-1)-1).float().mean().item(),\n",
    "    'tx-lab-2': text_tots.ge(lbls.sum(-1)-2).float().mean().item(),\n",
    "    'im-ret1': img_order[:, -1:].eq(0).sum(dim=1).float().mean().item(),\n",
    "    'im-ret5': img_order[:, -5:].eq(0).sum(dim=1).float().mean().item(),\n",
    "    'im-ret10': img_order[:, -10:].eq(0).sum(dim=1).float().mean().item(),\n",
    "    'im-ret100': img_order[:, -100:].eq(0).sum(dim=1).float().mean().item(),\n",
    "    'tx-ret1': text_order[:, -1:].eq(0).sum(dim=1).float().mean().item(),\n",
    "    'tx-ret5': text_order[:, -5:].eq(0).sum(dim=1).float().mean().item(),\n",
    "    'tx-ret10': text_order[:, -10:].eq(0).sum(dim=1).float().mean().item(),\n",
    "    'tx-ret100': text_order[:, -100:].eq(0).sum(dim=1).float().mean().item(),\n",
    "    'alignment': metrics.compute_alignment(mat),\n",
    "    'uniformity': np.log(metrics.compute_uniformity(mat)).item(),\n",
    "}\n",
    "print(loc)\n",
    "print(tabulate(scores.items(), headers=['Metric', 'Value']))"
   ]
  },
  {
   "cell_type": "code",
   "execution_count": null,
   "metadata": {},
   "outputs": [],
   "source": []
  },
  {
   "cell_type": "code",
   "execution_count": null,
   "metadata": {},
   "outputs": [],
   "source": []
  },
  {
   "cell_type": "code",
   "execution_count": null,
   "metadata": {},
   "outputs": [],
   "source": []
  }
 ],
 "metadata": {
  "kernelspec": {
   "display_name": "base",
   "language": "python",
   "name": "python3"
  },
  "language_info": {
   "codemirror_mode": {
    "name": "ipython",
    "version": 3
   },
   "file_extension": ".py",
   "mimetype": "text/x-python",
   "name": "python",
   "nbconvert_exporter": "python",
   "pygments_lexer": "ipython3",
   "version": "3.12.4"
  }
 },
 "nbformat": 4,
 "nbformat_minor": 2
}
