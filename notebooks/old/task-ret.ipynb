{
 "cells": [
  {
   "cell_type": "code",
   "execution_count": 1,
   "metadata": {},
   "outputs": [
    {
     "name": "stdout",
     "output_type": "stream",
     "text": [
      "Selecting CUDA device 2 with 4026 MiB free memory and 100% utilization\n"
     ]
    }
   ],
   "source": [
    "import os\n",
    "if '_cwd_set' not in locals(): locals()['_cwd_set'] = os.chdir(os.path.dirname(os.getcwd()))\n",
    "import omnifig as fig\n",
    "fig.initialize()\n",
    "from src.jimports import *\n",
    "from src.util import set_default_device, repo_root, data_root\n",
    "from src.dataset import RawCOCO, SimpleCOCO, RawCOCOCaptions, COCOCaptions, COCO, MNIST\n",
    "device = set_default_device();"
   ]
  },
  {
   "cell_type": "code",
   "execution_count": 2,
   "metadata": {},
   "outputs": [],
   "source": [
    "cfg = fig.create_config(*'norm intv/module m/ced-man a/mlp d/coco-emb'.split())\n",
    "# print(cfg)"
   ]
  },
  {
   "cell_type": "code",
   "execution_count": 2,
   "metadata": {},
   "outputs": [],
   "source": [
    "loc = Path('/data/felix/cache/checkpoints/ae128_coco_20250114_230254/ckpt_020000')"
   ]
  },
  {
   "cell_type": "code",
   "execution_count": 3,
   "metadata": {},
   "outputs": [],
   "source": [
    "cfg = fig.create_config(loc.joinpath('config.yaml'))"
   ]
  },
  {
   "cell_type": "code",
   "execution_count": 4,
   "metadata": {},
   "outputs": [
    {
     "data": {
      "text/plain": [
       "SimpleCOCO[106459](index, image, image_id, observation, instances, label)"
      ]
     },
     "execution_count": 4,
     "metadata": {},
     "output_type": "execute_result"
    }
   ],
   "source": [
    "trainer = cfg.pull('trainer', silent=True)\n",
    "model = trainer.model\n",
    "modifier = trainer.intervention\n",
    "traindataset = cfg.pull('dataset', silent=True)\n",
    "valdataset = traindataset.as_eval()\n",
    "traindataset"
   ]
  },
  {
   "cell_type": "code",
   "execution_count": 5,
   "metadata": {},
   "outputs": [],
   "source": [
    "traindataset.prepare(device=device);\n",
    "valdataset.prepare(device=device)\n",
    "system = Structured(traindataset, *trainer.gadgetry())\n",
    "system.mechanize() # sync for gears and spaces\n",
    "mech = system.mechanics()\n",
    "model.prepare(device=device);\n",
    "modifier.prepare(device=device);\n",
    "for p in model.parameters():\n",
    "    p.requires_grad = False\n",
    "for p in modifier.parameters():\n",
    "    p.requires_grad = False"
   ]
  },
  {
   "cell_type": "code",
   "execution_count": 6,
   "metadata": {},
   "outputs": [
    {
     "name": "stderr",
     "output_type": "stream",
     "text": [
      "/home/felix/workspace/clones/foundation/omnilearn/machines.py:40: FutureWarning: You are using `torch.load` with `weights_only=False` (the current default value), which uses the default pickle module implicitly. It is possible to construct malicious pickle data which will execute arbitrary code during unpickling (See https://github.com/pytorch/pytorch/blob/main/SECURITY.md#untrusted-models for more details). In a future release, the default value for `weights_only` will be flipped to `True`. This limits the functions that could be executed during unpickling. Arbitrary objects will no longer be allowed to be loaded via this mode unless they are explicitly allowlisted by the user via `torch.serialization.add_safe_globals`. We recommend you start setting `weights_only=True` for any use case where you don't have full control of the loaded file. Please open an issue on GitHub for any issues related to this experimental feature.\n",
      "  data = torch.load(path)\n",
      "/home/felix/workspace/remote/src/interventions.py:188: FutureWarning: You are using `torch.load` with `weights_only=False` (the current default value), which uses the default pickle module implicitly. It is possible to construct malicious pickle data which will execute arbitrary code during unpickling (See https://github.com/pytorch/pytorch/blob/main/SECURITY.md#untrusted-models for more details). In a future release, the default value for `weights_only` will be flipped to `True`. This limits the functions that could be executed during unpickling. Arbitrary objects will no longer be allowed to be loaded via this mode unless they are explicitly allowlisted by the user via `torch.serialization.add_safe_globals`. We recommend you start setting `weights_only=True` for any use case where you don't have full control of the loaded file. Please open an issue on GitHub for any issues related to this experimental feature.\n",
      "  data = torch.load(path)\n"
     ]
    }
   ],
   "source": [
    "model.load_checkpoint(path=loc.joinpath('model'));\n",
    "modifier.load_checkpoint(path=loc.joinpath('interventions'));"
   ]
  },
  {
   "cell_type": "code",
   "execution_count": 7,
   "metadata": {},
   "outputs": [
    {
     "data": {
      "text/plain": [
       "Batch({size}, {num_iterations}, {drawn_batches}, {drawn_samples}, {index}, {epochs}, {initial_seed}, {epoch_seed}, {epoch_offset}, {image}, {image_id}, {observation}, {instances}, {label}, {latent}, {reconstruction}, {loss_rec}, {prediction})"
      ]
     },
     "execution_count": 7,
     "metadata": {},
     "output_type": "execute_result"
    }
   ],
   "source": [
    "batch = traindataset.batch(24, model)\n",
    "batch"
   ]
  },
  {
   "cell_type": "code",
   "execution_count": 8,
   "metadata": {},
   "outputs": [
    {
     "data": {
      "text/plain": [
       "(torch.Size([24, 768]), torch.Size([24, 80]), torch.Size([24, 80]))"
      ]
     },
     "execution_count": 8,
     "metadata": {},
     "output_type": "execute_result"
    }
   ],
   "source": [
    "rec = batch['reconstruction']\n",
    "obs = batch['observation']\n",
    "lbl = batch['label']\n",
    "pred = batch['prediction']\n",
    "rec.shape, pred.shape, lbl.shape"
   ]
  },
  {
   "cell_type": "code",
   "execution_count": 9,
   "metadata": {},
   "outputs": [
    {
     "data": {
      "text/plain": [
       "tensor([[False, False, False, False, False, False],\n",
       "        [ True, False, False, False, False, False],\n",
       "        [False, False, False, False, False, False],\n",
       "        [ True, False,  True, False, False,  True],\n",
       "        [False, False, False, False, False, False]], device='cuda:2')"
      ]
     },
     "execution_count": 9,
     "metadata": {},
     "output_type": "execute_result"
    }
   ],
   "source": [
    "lbl[:5,:6]"
   ]
  },
  {
   "cell_type": "code",
   "execution_count": 10,
   "metadata": {},
   "outputs": [
    {
     "data": {
      "text/plain": [
       "tensor([[ -6.6737,  -9.7150,  -7.5876, -11.0463, -12.7403,  -9.9729],\n",
       "        [  8.4911,  -2.4404,  -0.5635,  -7.0519,  -8.1696,  -6.3583],\n",
       "        [ -3.2721, -13.6740, -10.5507, -13.9637, -15.3645, -17.8923],\n",
       "        [  5.4396,  -1.9623,  -0.1921,  -4.2699, -10.0154,  -3.4960],\n",
       "        [ -4.2727,  -4.0172,  -5.3556, -11.6546, -12.4487, -12.7257]],\n",
       "       device='cuda:2')"
      ]
     },
     "execution_count": 10,
     "metadata": {},
     "output_type": "execute_result"
    }
   ],
   "source": [
    "pred[:5,:6]"
   ]
  },
  {
   "cell_type": "code",
   "execution_count": 32,
   "metadata": {},
   "outputs": [
    {
     "data": {
      "text/plain": [
       "torch.Size([1, 768])"
      ]
     },
     "execution_count": 32,
     "metadata": {},
     "output_type": "execute_result"
    }
   ],
   "source": [
    "cond = modifier.get_conditioning(torch.as_tensor([1], device=device), torch.as_tensor([0], device=device))\n",
    "cond = modifier.get_conditioning(torch.as_tensor([-1], device=device), torch.as_tensor([0], device=device))\n",
    "cond.shape"
   ]
  },
  {
   "cell_type": "code",
   "execution_count": 26,
   "metadata": {},
   "outputs": [
    {
     "data": {
      "text/plain": [
       "torch.Size([24, 128])"
      ]
     },
     "execution_count": 26,
     "metadata": {},
     "output_type": "execute_result"
    }
   ],
   "source": [
    "latent = batch['latent']\n",
    "latent.shape"
   ]
  },
  {
   "cell_type": "code",
   "execution_count": 33,
   "metadata": {},
   "outputs": [
    {
     "data": {
      "text/plain": [
       "torch.Size([1, 128])"
      ]
     },
     "execution_count": 33,
     "metadata": {},
     "output_type": "execute_result"
    }
   ],
   "source": [
    "intv = modifier.apply_intervention(latent[[1]], cond)\n",
    "intv.shape"
   ]
  },
  {
   "cell_type": "code",
   "execution_count": 30,
   "metadata": {},
   "outputs": [
    {
     "data": {
      "text/plain": [
       "tensor([ True, False, False, False, False, False, False, False, False, False,\n",
       "        False, False, False, False, False, False, False, False, False, False,\n",
       "        False, False, False, False, False, False, False, False, False, False,\n",
       "        False, False, False, False, False, False, False, False, False,  True,\n",
       "        False, False, False, False, False, False, False, False, False, False,\n",
       "        False, False, False,  True, False, False, False, False, False, False,\n",
       "         True, False, False, False, False, False, False, False, False, False,\n",
       "        False, False, False, False, False, False, False, False, False, False],\n",
       "       device='cuda:3')"
      ]
     },
     "execution_count": 30,
     "metadata": {},
     "output_type": "execute_result"
    }
   ],
   "source": [
    "lbl[1]"
   ]
  },
  {
   "cell_type": "code",
   "execution_count": 29,
   "metadata": {},
   "outputs": [
    {
     "data": {
      "text/plain": [
       "tensor([ 16.7824,  -6.8958,  -3.5942,  -7.1565, -15.4173,  -8.8879, -11.6496,\n",
       "         -6.8098,  -9.0031,  -9.1677, -10.9302,  -6.3289,  -7.1757,  -3.1761,\n",
       "         -8.6532,  -9.6531,  -7.4476, -12.0742, -13.9844, -15.1741, -14.5410,\n",
       "        -11.7243, -13.9237, -15.0946,  -4.2062,  -6.0768,  -1.8894,  -5.9414,\n",
       "         -9.4069, -13.8676, -12.4716, -14.5575, -10.0074, -18.5087, -17.6825,\n",
       "         -9.9827, -15.9454, -13.7271, -14.9815,  -2.1873,  -2.6575,   0.1688,\n",
       "         -0.1500,  -1.8403,  -3.3125,  -2.6015,  -6.3909,  -5.0885,  -0.4016,\n",
       "         -6.0098,  -1.8677,  -2.4695,  -5.8093,  -3.1683,  -1.7097,  -5.9743,\n",
       "          0.1463,  -4.0002,  -1.2560, -10.7558,   1.6960, -15.2440,  -2.8953,\n",
       "         -5.4333,  -9.6435, -10.2609,  -7.2347,  -4.7824,  -6.6590,  -6.1437,\n",
       "         -9.4887,  -6.8424,  -4.1618,  -5.2247,  -5.4061,  -3.1431,  -6.7401,\n",
       "         -8.3932, -11.4496, -12.2338], device='cuda:3')"
      ]
     },
     "execution_count": 29,
     "metadata": {},
     "output_type": "execute_result"
    }
   ],
   "source": [
    "pred[1]"
   ]
  },
  {
   "cell_type": "code",
   "execution_count": 34,
   "metadata": {},
   "outputs": [
    {
     "data": {
      "text/plain": [
       "tensor([[-1.0094e+00, -6.6570e+00, -2.6569e+00, -2.4035e+00, -8.4497e+00,\n",
       "         -2.7963e+00, -1.0747e+01, -3.9825e+00, -9.5988e+00, -5.4661e+00,\n",
       "         -1.0618e+01, -6.2455e+00, -6.3298e+00, -4.1514e+00, -7.4474e+00,\n",
       "         -7.6641e+00, -8.4393e+00, -7.9666e+00, -1.2860e+01, -1.0908e+01,\n",
       "         -1.3986e+01, -1.1588e+01, -8.3818e+00, -1.1853e+01, -4.5196e+00,\n",
       "         -4.7303e+00, -2.0868e+00, -7.5000e+00, -5.7339e+00, -8.5720e+00,\n",
       "         -1.1925e+01, -1.3579e+01, -1.0108e+01, -2.1130e+01, -1.2853e+01,\n",
       "         -1.2159e+01, -1.6089e+01, -8.6460e+00, -1.5116e+01, -3.9588e+00,\n",
       "         -5.4662e+00, -2.3741e-01, -3.0914e+00, -4.4981e+00, -3.3664e+00,\n",
       "         -1.9679e+00, -9.7385e-01, -5.5971e+00, -1.5464e+00, -5.5428e+00,\n",
       "         -2.8485e+00, -5.0852e+00, -6.9527e+00, -2.8262e+00, -5.3289e+00,\n",
       "         -4.2072e+00, -4.7548e-01, -1.6194e+00, -2.1201e+00, -4.2561e+00,\n",
       "          1.0847e-02, -1.0371e+01, -9.4079e-01, -3.1928e+00, -6.2424e+00,\n",
       "         -6.7952e+00, -3.0962e+00, -3.2426e+00, -8.1042e+00, -7.4566e+00,\n",
       "         -8.0590e+00, -5.0164e+00, -3.9439e+00, -2.0336e+00, -2.8189e+00,\n",
       "         -5.6324e+00, -8.4051e+00, -6.5104e+00, -1.1234e+01, -6.2640e+00]],\n",
       "       device='cuda:3')"
      ]
     },
     "execution_count": 34,
     "metadata": {},
     "output_type": "execute_result"
    }
   ],
   "source": [
    "model.predict(intv)"
   ]
  },
  {
   "cell_type": "code",
   "execution_count": 12,
   "metadata": {},
   "outputs": [
    {
     "data": {
      "text/plain": [
       "COCO[59169](index, text_features, label, image_id, caption_id, caption, image, image_features)"
      ]
     },
     "execution_count": 12,
     "metadata": {},
     "output_type": "execute_result"
    }
   ],
   "source": [
    "fullddata = COCO(eval_split=-0.1)\n",
    "fullddata.prepare(device=device);\n",
    "fullddata"
   ]
  },
  {
   "cell_type": "code",
   "execution_count": 17,
   "metadata": {},
   "outputs": [
    {
     "data": {
      "text/plain": [
       "(4135, array([116, 149, 183, 192, 235]))"
      ]
     },
     "execution_count": 17,
     "metadata": {},
     "output_type": "execute_result"
    }
   ],
   "source": [
    "# val_img_ids = valdataset.get_image_id(np.arange(valdataset.size))\n",
    "# fiids = fullddata.get_image_id(np.arange(fullddata.size))\n",
    "# fiid_map = {fiid: i for i, fiid in enumerate(fiids)}\n",
    "# safe_ids = set(fiids.tolist()).intersection(set(val_img_ids.tolist()))\n",
    "# inds = np.array([fiid_map[fiid] for fiid in safe_ids])\n",
    "# inds.sort()\n",
    "# save_json(inds.tolist(), 'save_inds.json')\n",
    "inds = load_json('save_inds.json')\n",
    "inds = np.array(inds)\n",
    "len(inds), inds[:5]"
   ]
  },
  {
   "cell_type": "code",
   "execution_count": 57,
   "metadata": {},
   "outputs": [
    {
     "data": {
      "text/plain": [
       "Context({index}, {text_features}, {label}, {image_id}, {caption_id}, {caption}, {image}, {image_features}, {latent}, {reconstruction}, {loss_rec}, {prediction}, {size})"
      ]
     },
     "execution_count": 57,
     "metadata": {},
     "output_type": "execute_result"
    }
   ],
   "source": [
    "batch = Context(fullddata, model, DictGadget({'index': inds, 'size': len(inds)}))\n",
    "batch"
   ]
  },
  {
   "cell_type": "code",
   "execution_count": null,
   "metadata": {},
   "outputs": [],
   "source": []
  },
  {
   "cell_type": "code",
   "execution_count": 58,
   "metadata": {},
   "outputs": [
    {
     "ename": "GrabError",
     "evalue": "'reconstruction' failed due to: 'latent' failed due to: 'observation' failed due to: missing gadget for 'observation'",
     "output_type": "error",
     "traceback": [
      "\u001b[0;31m---------------------------------------------------------------------------\u001b[0m",
      "\u001b[0;31mMissingGadget\u001b[0m                             Traceback (most recent call last)",
      "File \u001b[0;32m~/workspace/clones/data-foundation/omniply/core/games.py:70\u001b[0m, in \u001b[0;36mGameBase.grab_from\u001b[0;34m(self, ctx, gizmo)\u001b[0m\n\u001b[1;32m     69\u001b[0m \u001b[38;5;28;01mtry\u001b[39;00m:\n\u001b[0;32m---> 70\u001b[0m \tout \u001b[38;5;241m=\u001b[39m \u001b[38;5;28;43mself\u001b[39;49m\u001b[38;5;241;43m.\u001b[39;49m\u001b[43m_grab\u001b[49m\u001b[43m(\u001b[49m\u001b[43mgizmo\u001b[49m\u001b[43m)\u001b[49m\n\u001b[1;32m     71\u001b[0m \u001b[38;5;28;01mexcept\u001b[39;00m \u001b[38;5;167;01mException\u001b[39;00m \u001b[38;5;28;01mas\u001b[39;00m error:\n",
      "File \u001b[0;32m~/workspace/clones/data-foundation/omniply/core/games.py:56\u001b[0m, in \u001b[0;36mGameBase._grab\u001b[0;34m(self, gizmo)\u001b[0m\n\u001b[1;32m     47\u001b[0m \u001b[38;5;250m\u001b[39m\u001b[38;5;124;03m\"\"\"\u001b[39;00m\n\u001b[1;32m     48\u001b[0m \u001b[38;5;124;03mGrabs a gizmo from self.\u001b[39;00m\n\u001b[1;32m     49\u001b[0m \n\u001b[0;32m   (...)\u001b[0m\n\u001b[1;32m     54\u001b[0m \u001b[38;5;124;03m\tAny: The grabbed gizmo.\u001b[39;00m\n\u001b[1;32m     55\u001b[0m \u001b[38;5;124;03m\"\"\"\u001b[39;00m\n\u001b[0;32m---> 56\u001b[0m \u001b[38;5;28;01mreturn\u001b[39;00m \u001b[38;5;28;43msuper\u001b[39;49m\u001b[43m(\u001b[49m\u001b[43m)\u001b[49m\u001b[38;5;241;43m.\u001b[39;49m\u001b[43mgrab_from\u001b[49m\u001b[43m(\u001b[49m\u001b[38;5;28;43mself\u001b[39;49m\u001b[43m,\u001b[49m\u001b[43m \u001b[49m\u001b[43mgizmo\u001b[49m\u001b[43m)\u001b[49m\n",
      "File \u001b[0;32m~/workspace/clones/data-foundation/omniply/core/gaggles.py:199\u001b[0m, in \u001b[0;36mLoopyGaggle.grab_from\u001b[0;34m(self, ctx, gizmo)\u001b[0m\n\u001b[1;32m    198\u001b[0m itr \u001b[38;5;241m=\u001b[39m \u001b[38;5;28mself\u001b[39m\u001b[38;5;241m.\u001b[39m_grabber_stack\u001b[38;5;241m.\u001b[39msetdefault(gizmo, \u001b[38;5;28mself\u001b[39m\u001b[38;5;241m.\u001b[39m_gadgets(gizmo))\n\u001b[0;32m--> 199\u001b[0m \u001b[43m\u001b[49m\u001b[38;5;28;43;01mfor\u001b[39;49;00m\u001b[43m \u001b[49m\u001b[43mgadget\u001b[49m\u001b[43m \u001b[49m\u001b[38;5;129;43;01min\u001b[39;49;00m\u001b[43m \u001b[49m\u001b[43mitr\u001b[49m\u001b[43m:\u001b[49m\n\u001b[1;32m    200\u001b[0m \u001b[43m\t\u001b[49m\u001b[38;5;28;43;01mtry\u001b[39;49;00m\u001b[43m:\u001b[49m\n",
      "File \u001b[0;32m~/workspace/clones/data-foundation/omniply/core/gaggles.py:89\u001b[0m, in \u001b[0;36mGaggleBase._gadgets\u001b[0;34m(self, gizmo)\u001b[0m\n\u001b[1;32m     80\u001b[0m \u001b[38;5;250m\u001b[39m\u001b[38;5;124;03m\"\"\"\u001b[39;00m\n\u001b[1;32m     81\u001b[0m \u001b[38;5;124;03mPrivate method that returns all known subgadgets that can produce the given gizmo.\u001b[39;00m\n\u001b[1;32m     82\u001b[0m \n\u001b[0;32m   (...)\u001b[0m\n\u001b[1;32m     87\u001b[0m \u001b[38;5;124;03m\tIterator[AbstractGadget]: An iterator over the gadgets that can produce the given gizmo.\u001b[39;00m\n\u001b[1;32m     88\u001b[0m \u001b[38;5;124;03m\"\"\"\u001b[39;00m\n\u001b[0;32m---> 89\u001b[0m \u001b[43m\u001b[49m\u001b[38;5;28;43;01mfor\u001b[39;49;00m\u001b[43m \u001b[49m\u001b[43mvendor\u001b[49m\u001b[43m \u001b[49m\u001b[38;5;129;43;01min\u001b[39;49;00m\u001b[43m \u001b[49m\u001b[38;5;28;43mself\u001b[39;49m\u001b[38;5;241;43m.\u001b[39;49m\u001b[43mvendors\u001b[49m\u001b[43m(\u001b[49m\u001b[43mgizmo\u001b[49m\u001b[43m)\u001b[49m\u001b[43m:\u001b[49m\n\u001b[1;32m     90\u001b[0m \u001b[43m\t\u001b[49m\u001b[38;5;28;43;01mif\u001b[39;49;00m\u001b[43m \u001b[49m\u001b[38;5;28;43misinstance\u001b[39;49m\u001b[43m(\u001b[49m\u001b[43mvendor\u001b[49m\u001b[43m,\u001b[49m\u001b[43m \u001b[49m\u001b[43mAbstractGaggle\u001b[49m\u001b[43m)\u001b[49m\u001b[43m:\u001b[49m\n",
      "File \u001b[0;32m~/workspace/clones/data-foundation/omniply/core/gaggles.py:75\u001b[0m, in \u001b[0;36mGaggleBase.vendors\u001b[0;34m(self, gizmo)\u001b[0m\n\u001b[1;32m     74\u001b[0m \u001b[38;5;28;01mif\u001b[39;00m gizmo \u001b[38;5;129;01mnot\u001b[39;00m \u001b[38;5;129;01min\u001b[39;00m \u001b[38;5;28mself\u001b[39m\u001b[38;5;241m.\u001b[39m_gadgets_table:\n\u001b[0;32m---> 75\u001b[0m \t\u001b[38;5;28;01mraise\u001b[39;00m \u001b[38;5;28mself\u001b[39m\u001b[38;5;241m.\u001b[39m_MissingGadgetError(gizmo)\n\u001b[1;32m     76\u001b[0m \u001b[38;5;28;01myield from\u001b[39;00m \u001b[38;5;28mreversed\u001b[39m(\u001b[38;5;28mself\u001b[39m\u001b[38;5;241m.\u001b[39m_gadgets_table[gizmo])\n",
      "\u001b[0;31mMissingGadget\u001b[0m: 'observation'",
      "\nThe above exception was the direct cause of the following exception:\n",
      "\u001b[0;31mGrabError\u001b[0m                                 Traceback (most recent call last)",
      "File \u001b[0;32m~/workspace/clones/data-foundation/omniply/core/games.py:70\u001b[0m, in \u001b[0;36mGameBase.grab_from\u001b[0;34m(self, ctx, gizmo)\u001b[0m\n\u001b[1;32m     69\u001b[0m \u001b[38;5;28;01mtry\u001b[39;00m:\n\u001b[0;32m---> 70\u001b[0m \tout \u001b[38;5;241m=\u001b[39m \u001b[38;5;28;43mself\u001b[39;49m\u001b[38;5;241;43m.\u001b[39;49m\u001b[43m_grab\u001b[49m\u001b[43m(\u001b[49m\u001b[43mgizmo\u001b[49m\u001b[43m)\u001b[49m\n\u001b[1;32m     71\u001b[0m \u001b[38;5;28;01mexcept\u001b[39;00m \u001b[38;5;167;01mException\u001b[39;00m \u001b[38;5;28;01mas\u001b[39;00m error:\n",
      "File \u001b[0;32m~/workspace/clones/data-foundation/omniply/core/games.py:56\u001b[0m, in \u001b[0;36mGameBase._grab\u001b[0;34m(self, gizmo)\u001b[0m\n\u001b[1;32m     47\u001b[0m \u001b[38;5;250m\u001b[39m\u001b[38;5;124;03m\"\"\"\u001b[39;00m\n\u001b[1;32m     48\u001b[0m \u001b[38;5;124;03mGrabs a gizmo from self.\u001b[39;00m\n\u001b[1;32m     49\u001b[0m \n\u001b[0;32m   (...)\u001b[0m\n\u001b[1;32m     54\u001b[0m \u001b[38;5;124;03m\tAny: The grabbed gizmo.\u001b[39;00m\n\u001b[1;32m     55\u001b[0m \u001b[38;5;124;03m\"\"\"\u001b[39;00m\n\u001b[0;32m---> 56\u001b[0m \u001b[38;5;28;01mreturn\u001b[39;00m \u001b[38;5;28;43msuper\u001b[39;49m\u001b[43m(\u001b[49m\u001b[43m)\u001b[49m\u001b[38;5;241;43m.\u001b[39;49m\u001b[43mgrab_from\u001b[49m\u001b[43m(\u001b[49m\u001b[38;5;28;43mself\u001b[39;49m\u001b[43m,\u001b[49m\u001b[43m \u001b[49m\u001b[43mgizmo\u001b[49m\u001b[43m)\u001b[49m\n",
      "File \u001b[0;32m~/workspace/clones/data-foundation/omniply/core/gaggles.py:201\u001b[0m, in \u001b[0;36mLoopyGaggle.grab_from\u001b[0;34m(self, ctx, gizmo)\u001b[0m\n\u001b[1;32m    200\u001b[0m \u001b[38;5;28;01mtry\u001b[39;00m:\n\u001b[0;32m--> 201\u001b[0m \tout \u001b[38;5;241m=\u001b[39m \u001b[43mgadget\u001b[49m\u001b[38;5;241;43m.\u001b[39;49m\u001b[43mgrab_from\u001b[49m\u001b[43m(\u001b[49m\u001b[43mctx\u001b[49m\u001b[43m,\u001b[49m\u001b[43m \u001b[49m\u001b[43mgizmo\u001b[49m\u001b[43m)\u001b[49m\n\u001b[1;32m    202\u001b[0m \u001b[38;5;28;01mexcept\u001b[39;00m \u001b[38;5;28mself\u001b[39m\u001b[38;5;241m.\u001b[39m_GadgetFailure \u001b[38;5;28;01mas\u001b[39;00m e:\n",
      "File \u001b[0;32m~/workspace/clones/data-foundation/omniply/core/genetics.py:230\u001b[0m, in \u001b[0;36mMIMOGadgetBase.grab_from\u001b[0;34m(self, ctx, gizmo)\u001b[0m\n\u001b[1;32m    229\u001b[0m \u001b[38;5;28;01mif\u001b[39;00m \u001b[38;5;28mself\u001b[39m\u001b[38;5;241m.\u001b[39m_multi_output_order(gizmo) \u001b[38;5;129;01mis\u001b[39;00m \u001b[38;5;28;01mNone\u001b[39;00m:\n\u001b[0;32m--> 230\u001b[0m \t\u001b[38;5;28;01mreturn\u001b[39;00m \u001b[38;5;28;43msuper\u001b[39;49m\u001b[43m(\u001b[49m\u001b[43m)\u001b[49m\u001b[38;5;241;43m.\u001b[39;49m\u001b[43mgrab_from\u001b[49m\u001b[43m(\u001b[49m\u001b[43mctx\u001b[49m\u001b[43m,\u001b[49m\u001b[43m \u001b[49m\u001b[43mgizmo\u001b[49m\u001b[43m)\u001b[49m\n\u001b[1;32m    231\u001b[0m \u001b[38;5;28;01mreturn\u001b[39;00m \u001b[38;5;28mself\u001b[39m\u001b[38;5;241m.\u001b[39m_grab_from_multi_output(ctx, gizmo)\n",
      "File \u001b[0;32m~/workspace/clones/data-foundation/omniply/core/gadgets.py:80\u001b[0m, in \u001b[0;36mSingleGadgetBase.grab_from\u001b[0;34m(self, ctx, gizmo)\u001b[0m\n\u001b[1;32m     79\u001b[0m \u001b[38;5;66;03m# if gizmo != self._gizmo: raise self._MissingGadgetError(gizmo) # would cause issues with MIMO gadgets\u001b[39;00m\n\u001b[0;32m---> 80\u001b[0m \u001b[38;5;28;01mreturn\u001b[39;00m \u001b[38;5;28;43mself\u001b[39;49m\u001b[38;5;241;43m.\u001b[39;49m\u001b[43m_grab_from\u001b[49m\u001b[43m(\u001b[49m\u001b[43mctx\u001b[49m\u001b[43m)\u001b[49m\n",
      "File \u001b[0;32m~/workspace/clones/data-foundation/omniply/core/genetics.py:173\u001b[0m, in \u001b[0;36mAutoFunctionGadget._grab_from\u001b[0;34m(self, ctx)\u001b[0m\n\u001b[1;32m    172\u001b[0m \u001b[38;5;28;01mfor\u001b[39;00m param \u001b[38;5;129;01min\u001b[39;00m genes:\n\u001b[0;32m--> 173\u001b[0m \tconditions[param\u001b[38;5;241m.\u001b[39mname] \u001b[38;5;241m=\u001b[39m \u001b[38;5;28;43mself\u001b[39;49m\u001b[38;5;241;43m.\u001b[39;49m\u001b[43m_find_missing_gene\u001b[49m\u001b[43m(\u001b[49m\u001b[43mctx\u001b[49m\u001b[43m,\u001b[49m\u001b[43m \u001b[49m\u001b[43mparam\u001b[49m\u001b[43m)\u001b[49m\n\u001b[1;32m    174\u001b[0m \u001b[38;5;28;01mreturn\u001b[39;00m \u001b[38;5;28mself\u001b[39m\u001b[38;5;241m.\u001b[39m_fn(\u001b[38;5;241m*\u001b[39m\u001b[38;5;241m*\u001b[39mconditions)\n",
      "File \u001b[0;32m~/workspace/clones/data-foundation/omniply/core/genetics.py:162\u001b[0m, in \u001b[0;36mAutoFunctionGadget._find_missing_gene\u001b[0;34m(self, ctx, param)\u001b[0m\n\u001b[1;32m    161\u001b[0m \u001b[38;5;28;01mtry\u001b[39;00m:\n\u001b[0;32m--> 162\u001b[0m \t\u001b[38;5;28;01mreturn\u001b[39;00m \u001b[43mctx\u001b[49m\u001b[38;5;241;43m.\u001b[39;49m\u001b[43mgrab\u001b[49m\u001b[43m(\u001b[49m\u001b[38;5;28;43mself\u001b[39;49m\u001b[38;5;241;43m.\u001b[39;49m\u001b[43m_arg_map\u001b[49m\u001b[38;5;241;43m.\u001b[39;49m\u001b[43mget\u001b[49m\u001b[43m(\u001b[49m\u001b[43mparam\u001b[49m\u001b[38;5;241;43m.\u001b[39;49m\u001b[43mname\u001b[49m\u001b[43m,\u001b[49m\u001b[43m \u001b[49m\u001b[43mparam\u001b[49m\u001b[38;5;241;43m.\u001b[39;49m\u001b[43mname\u001b[49m\u001b[43m)\u001b[49m\u001b[43m)\u001b[49m\n\u001b[1;32m    163\u001b[0m \u001b[38;5;28;01mexcept\u001b[39;00m GrabError:\n",
      "File \u001b[0;32m~/workspace/clones/data-foundation/omniply/core/abstract.py:210\u001b[0m, in \u001b[0;36mAbstractGame.grab\u001b[0;34m(self, gizmo, default)\u001b[0m\n\u001b[1;32m    209\u001b[0m \u001b[38;5;28;01mtry\u001b[39;00m:\n\u001b[0;32m--> 210\u001b[0m \t\u001b[38;5;28;01mreturn\u001b[39;00m \u001b[38;5;28;43mself\u001b[39;49m\u001b[38;5;241;43m.\u001b[39;49m\u001b[43mgrab_from\u001b[49m\u001b[43m(\u001b[49m\u001b[38;5;28;43;01mNone\u001b[39;49;00m\u001b[43m,\u001b[49m\u001b[43m \u001b[49m\u001b[43mgizmo\u001b[49m\u001b[43m)\u001b[49m\n\u001b[1;32m    211\u001b[0m \u001b[38;5;28;01mexcept\u001b[39;00m AbstractGadgetError:\n",
      "File \u001b[0;32m~/workspace/clones/data-foundation/omniply/core/games.py:333\u001b[0m, in \u001b[0;36mTraceGame.grab_from\u001b[0;34m(self, ctx, gizmo)\u001b[0m\n\u001b[1;32m    332\u001b[0m \u001b[38;5;28;01mdef\u001b[39;00m \u001b[38;5;21mgrab_from\u001b[39m(\u001b[38;5;28mself\u001b[39m, ctx: Optional[AbstractGame], gizmo: \u001b[38;5;28mstr\u001b[39m) \u001b[38;5;241m-\u001b[39m\u001b[38;5;241m>\u001b[39m Any:\n\u001b[0;32m--> 333\u001b[0m \tval \u001b[38;5;241m=\u001b[39m \u001b[38;5;28;43msuper\u001b[39;49m\u001b[43m(\u001b[49m\u001b[43m)\u001b[49m\u001b[38;5;241;43m.\u001b[39;49m\u001b[43mgrab_from\u001b[49m\u001b[43m(\u001b[49m\u001b[43mctx\u001b[49m\u001b[43m,\u001b[49m\u001b[43m \u001b[49m\u001b[43mgizmo\u001b[49m\u001b[43m)\u001b[49m\n\u001b[1;32m    334\u001b[0m \t\u001b[38;5;28;01mif\u001b[39;00m \u001b[38;5;28mlen\u001b[39m(\u001b[38;5;28mself\u001b[39m\u001b[38;5;241m.\u001b[39m_partial_grabs):\n",
      "File \u001b[0;32m~/workspace/clones/data-foundation/omniply/core/games.py:195\u001b[0m, in \u001b[0;36mCacheGame.grab_from\u001b[0;34m(self, ctx, gizmo)\u001b[0m\n\u001b[1;32m    194\u001b[0m \t\u001b[38;5;28;01mreturn\u001b[39;00m \u001b[38;5;28mself\u001b[39m\u001b[38;5;241m.\u001b[39mdata[gizmo]\n\u001b[0;32m--> 195\u001b[0m val \u001b[38;5;241m=\u001b[39m \u001b[38;5;28;43mself\u001b[39;49m\u001b[38;5;241;43m.\u001b[39;49m\u001b[43m_cache_miss\u001b[49m\u001b[43m(\u001b[49m\u001b[43mctx\u001b[49m\u001b[43m,\u001b[49m\u001b[43m \u001b[49m\u001b[43mgizmo\u001b[49m\u001b[43m)\u001b[49m\n\u001b[1;32m    196\u001b[0m \u001b[38;5;28mself\u001b[39m[gizmo] \u001b[38;5;241m=\u001b[39m val  \u001b[38;5;66;03m# cache packaged val\u001b[39;00m\n",
      "File \u001b[0;32m~/workspace/clones/data-foundation/omniply/core/games.py:324\u001b[0m, in \u001b[0;36mTraceGame._cache_miss\u001b[0;34m(self, ctx, gizmo)\u001b[0m\n\u001b[1;32m    323\u001b[0m \u001b[38;5;28;01mtry\u001b[39;00m:\n\u001b[0;32m--> 324\u001b[0m \tval \u001b[38;5;241m=\u001b[39m \u001b[38;5;28;43msuper\u001b[39;49m\u001b[43m(\u001b[49m\u001b[43m)\u001b[49m\u001b[38;5;241;43m.\u001b[39;49m\u001b[43m_cache_miss\u001b[49m\u001b[43m(\u001b[49m\u001b[43mctx\u001b[49m\u001b[43m,\u001b[49m\u001b[43m \u001b[49m\u001b[43mgizmo\u001b[49m\u001b[43m)\u001b[49m\n\u001b[1;32m    325\u001b[0m \u001b[38;5;28;01mfinally\u001b[39;00m:\n",
      "File \u001b[0;32m~/workspace/clones/data-foundation/omniply/core/games.py:180\u001b[0m, in \u001b[0;36mCacheGame._cache_miss\u001b[0;34m(self, ctx, gizmo)\u001b[0m\n\u001b[1;32m    171\u001b[0m \u001b[38;5;250m\u001b[39m\u001b[38;5;124;03m\"\"\"\u001b[39;00m\n\u001b[1;32m    172\u001b[0m \u001b[38;5;124;03mHandles a cache miss.\u001b[39;00m\n\u001b[1;32m    173\u001b[0m \n\u001b[0;32m   (...)\u001b[0m\n\u001b[1;32m    178\u001b[0m \u001b[38;5;124;03m\tAssemblyError: Always.\u001b[39;00m\n\u001b[1;32m    179\u001b[0m \u001b[38;5;124;03m\"\"\"\u001b[39;00m\n\u001b[0;32m--> 180\u001b[0m \u001b[38;5;28;01mreturn\u001b[39;00m \u001b[38;5;28;43msuper\u001b[39;49m\u001b[43m(\u001b[49m\u001b[43m)\u001b[49m\u001b[38;5;241;43m.\u001b[39;49m\u001b[43mgrab_from\u001b[49m\u001b[43m(\u001b[49m\u001b[43mctx\u001b[49m\u001b[43m,\u001b[49m\u001b[43m \u001b[49m\u001b[43mgizmo\u001b[49m\u001b[43m)\u001b[49m\n",
      "File \u001b[0;32m~/workspace/clones/data-foundation/omniply/core/games.py:72\u001b[0m, in \u001b[0;36mGameBase.grab_from\u001b[0;34m(self, ctx, gizmo)\u001b[0m\n\u001b[1;32m     71\u001b[0m \u001b[38;5;28;01mexcept\u001b[39;00m \u001b[38;5;167;01mException\u001b[39;00m \u001b[38;5;28;01mas\u001b[39;00m error:\n\u001b[0;32m---> 72\u001b[0m \tout \u001b[38;5;241m=\u001b[39m \u001b[38;5;28;43mself\u001b[39;49m\u001b[38;5;241;43m.\u001b[39;49m\u001b[43m_grab_from_fallback\u001b[49m\u001b[43m(\u001b[49m\u001b[43merror\u001b[49m\u001b[43m,\u001b[49m\u001b[43m \u001b[49m\u001b[43mctx\u001b[49m\u001b[43m,\u001b[49m\u001b[43m \u001b[49m\u001b[43mgizmo\u001b[49m\u001b[43m)\u001b[49m\n\u001b[1;32m     73\u001b[0m \u001b[38;5;28;01mreturn\u001b[39;00m \u001b[38;5;28mself\u001b[39m\u001b[38;5;241m.\u001b[39mpackage(out, gizmo\u001b[38;5;241m=\u001b[39mgizmo)\n",
      "File \u001b[0;32m~/workspace/clones/data-foundation/omniply/core/games.py:41\u001b[0m, in \u001b[0;36mGameBase._grab_from_fallback\u001b[0;34m(self, error, ctx, gizmo)\u001b[0m\n\u001b[1;32m     40\u001b[0m \u001b[38;5;28;01mif\u001b[39;00m \u001b[38;5;28misinstance\u001b[39m(error, GrabError) \u001b[38;5;129;01mor\u001b[39;00m ctx \u001b[38;5;129;01mis\u001b[39;00m \u001b[38;5;28;01mNone\u001b[39;00m \u001b[38;5;129;01mor\u001b[39;00m ctx \u001b[38;5;129;01mis\u001b[39;00m \u001b[38;5;28mself\u001b[39m:\n\u001b[0;32m---> 41\u001b[0m \t\u001b[38;5;28;01mraise\u001b[39;00m \u001b[38;5;28mself\u001b[39m\u001b[38;5;241m.\u001b[39m_GrabError(gizmo, error) \u001b[38;5;28;01mfrom\u001b[39;00m \u001b[38;5;21;01merror\u001b[39;00m\n\u001b[1;32m     42\u001b[0m \u001b[38;5;28;01melse\u001b[39;00m:\n",
      "\u001b[0;31mGrabError\u001b[0m: 'observation' failed due to: missing gadget for 'observation'",
      "\nThe above exception was the direct cause of the following exception:\n",
      "\u001b[0;31mGrabError\u001b[0m                                 Traceback (most recent call last)",
      "File \u001b[0;32m~/workspace/clones/data-foundation/omniply/core/games.py:70\u001b[0m, in \u001b[0;36mGameBase.grab_from\u001b[0;34m(self, ctx, gizmo)\u001b[0m\n\u001b[1;32m     69\u001b[0m \u001b[38;5;28;01mtry\u001b[39;00m:\n\u001b[0;32m---> 70\u001b[0m \tout \u001b[38;5;241m=\u001b[39m \u001b[38;5;28;43mself\u001b[39;49m\u001b[38;5;241;43m.\u001b[39;49m\u001b[43m_grab\u001b[49m\u001b[43m(\u001b[49m\u001b[43mgizmo\u001b[49m\u001b[43m)\u001b[49m\n\u001b[1;32m     71\u001b[0m \u001b[38;5;28;01mexcept\u001b[39;00m \u001b[38;5;167;01mException\u001b[39;00m \u001b[38;5;28;01mas\u001b[39;00m error:\n",
      "File \u001b[0;32m~/workspace/clones/data-foundation/omniply/core/games.py:56\u001b[0m, in \u001b[0;36mGameBase._grab\u001b[0;34m(self, gizmo)\u001b[0m\n\u001b[1;32m     47\u001b[0m \u001b[38;5;250m\u001b[39m\u001b[38;5;124;03m\"\"\"\u001b[39;00m\n\u001b[1;32m     48\u001b[0m \u001b[38;5;124;03mGrabs a gizmo from self.\u001b[39;00m\n\u001b[1;32m     49\u001b[0m \n\u001b[0;32m   (...)\u001b[0m\n\u001b[1;32m     54\u001b[0m \u001b[38;5;124;03m\tAny: The grabbed gizmo.\u001b[39;00m\n\u001b[1;32m     55\u001b[0m \u001b[38;5;124;03m\"\"\"\u001b[39;00m\n\u001b[0;32m---> 56\u001b[0m \u001b[38;5;28;01mreturn\u001b[39;00m \u001b[38;5;28;43msuper\u001b[39;49m\u001b[43m(\u001b[49m\u001b[43m)\u001b[49m\u001b[38;5;241;43m.\u001b[39;49m\u001b[43mgrab_from\u001b[49m\u001b[43m(\u001b[49m\u001b[38;5;28;43mself\u001b[39;49m\u001b[43m,\u001b[49m\u001b[43m \u001b[49m\u001b[43mgizmo\u001b[49m\u001b[43m)\u001b[49m\n",
      "File \u001b[0;32m~/workspace/clones/data-foundation/omniply/core/gaggles.py:201\u001b[0m, in \u001b[0;36mLoopyGaggle.grab_from\u001b[0;34m(self, ctx, gizmo)\u001b[0m\n\u001b[1;32m    200\u001b[0m \u001b[38;5;28;01mtry\u001b[39;00m:\n\u001b[0;32m--> 201\u001b[0m \tout \u001b[38;5;241m=\u001b[39m \u001b[43mgadget\u001b[49m\u001b[38;5;241;43m.\u001b[39;49m\u001b[43mgrab_from\u001b[49m\u001b[43m(\u001b[49m\u001b[43mctx\u001b[49m\u001b[43m,\u001b[49m\u001b[43m \u001b[49m\u001b[43mgizmo\u001b[49m\u001b[43m)\u001b[49m\n\u001b[1;32m    202\u001b[0m \u001b[38;5;28;01mexcept\u001b[39;00m \u001b[38;5;28mself\u001b[39m\u001b[38;5;241m.\u001b[39m_GadgetFailure \u001b[38;5;28;01mas\u001b[39;00m e:\n",
      "File \u001b[0;32m~/workspace/clones/data-foundation/omniply/core/genetics.py:230\u001b[0m, in \u001b[0;36mMIMOGadgetBase.grab_from\u001b[0;34m(self, ctx, gizmo)\u001b[0m\n\u001b[1;32m    229\u001b[0m \u001b[38;5;28;01mif\u001b[39;00m \u001b[38;5;28mself\u001b[39m\u001b[38;5;241m.\u001b[39m_multi_output_order(gizmo) \u001b[38;5;129;01mis\u001b[39;00m \u001b[38;5;28;01mNone\u001b[39;00m:\n\u001b[0;32m--> 230\u001b[0m \t\u001b[38;5;28;01mreturn\u001b[39;00m \u001b[38;5;28;43msuper\u001b[39;49m\u001b[43m(\u001b[49m\u001b[43m)\u001b[49m\u001b[38;5;241;43m.\u001b[39;49m\u001b[43mgrab_from\u001b[49m\u001b[43m(\u001b[49m\u001b[43mctx\u001b[49m\u001b[43m,\u001b[49m\u001b[43m \u001b[49m\u001b[43mgizmo\u001b[49m\u001b[43m)\u001b[49m\n\u001b[1;32m    231\u001b[0m \u001b[38;5;28;01mreturn\u001b[39;00m \u001b[38;5;28mself\u001b[39m\u001b[38;5;241m.\u001b[39m_grab_from_multi_output(ctx, gizmo)\n",
      "File \u001b[0;32m~/workspace/clones/data-foundation/omniply/core/gadgets.py:80\u001b[0m, in \u001b[0;36mSingleGadgetBase.grab_from\u001b[0;34m(self, ctx, gizmo)\u001b[0m\n\u001b[1;32m     79\u001b[0m \u001b[38;5;66;03m# if gizmo != self._gizmo: raise self._MissingGadgetError(gizmo) # would cause issues with MIMO gadgets\u001b[39;00m\n\u001b[0;32m---> 80\u001b[0m \u001b[38;5;28;01mreturn\u001b[39;00m \u001b[38;5;28;43mself\u001b[39;49m\u001b[38;5;241;43m.\u001b[39;49m\u001b[43m_grab_from\u001b[49m\u001b[43m(\u001b[49m\u001b[43mctx\u001b[49m\u001b[43m)\u001b[49m\n",
      "File \u001b[0;32m~/workspace/clones/data-foundation/omniply/core/genetics.py:173\u001b[0m, in \u001b[0;36mAutoFunctionGadget._grab_from\u001b[0;34m(self, ctx)\u001b[0m\n\u001b[1;32m    172\u001b[0m \u001b[38;5;28;01mfor\u001b[39;00m param \u001b[38;5;129;01min\u001b[39;00m genes:\n\u001b[0;32m--> 173\u001b[0m \tconditions[param\u001b[38;5;241m.\u001b[39mname] \u001b[38;5;241m=\u001b[39m \u001b[38;5;28;43mself\u001b[39;49m\u001b[38;5;241;43m.\u001b[39;49m\u001b[43m_find_missing_gene\u001b[49m\u001b[43m(\u001b[49m\u001b[43mctx\u001b[49m\u001b[43m,\u001b[49m\u001b[43m \u001b[49m\u001b[43mparam\u001b[49m\u001b[43m)\u001b[49m\n\u001b[1;32m    174\u001b[0m \u001b[38;5;28;01mreturn\u001b[39;00m \u001b[38;5;28mself\u001b[39m\u001b[38;5;241m.\u001b[39m_fn(\u001b[38;5;241m*\u001b[39m\u001b[38;5;241m*\u001b[39mconditions)\n",
      "File \u001b[0;32m~/workspace/clones/data-foundation/omniply/core/genetics.py:162\u001b[0m, in \u001b[0;36mAutoFunctionGadget._find_missing_gene\u001b[0;34m(self, ctx, param)\u001b[0m\n\u001b[1;32m    161\u001b[0m \u001b[38;5;28;01mtry\u001b[39;00m:\n\u001b[0;32m--> 162\u001b[0m \t\u001b[38;5;28;01mreturn\u001b[39;00m \u001b[43mctx\u001b[49m\u001b[38;5;241;43m.\u001b[39;49m\u001b[43mgrab\u001b[49m\u001b[43m(\u001b[49m\u001b[38;5;28;43mself\u001b[39;49m\u001b[38;5;241;43m.\u001b[39;49m\u001b[43m_arg_map\u001b[49m\u001b[38;5;241;43m.\u001b[39;49m\u001b[43mget\u001b[49m\u001b[43m(\u001b[49m\u001b[43mparam\u001b[49m\u001b[38;5;241;43m.\u001b[39;49m\u001b[43mname\u001b[49m\u001b[43m,\u001b[49m\u001b[43m \u001b[49m\u001b[43mparam\u001b[49m\u001b[38;5;241;43m.\u001b[39;49m\u001b[43mname\u001b[49m\u001b[43m)\u001b[49m\u001b[43m)\u001b[49m\n\u001b[1;32m    163\u001b[0m \u001b[38;5;28;01mexcept\u001b[39;00m GrabError:\n",
      "File \u001b[0;32m~/workspace/clones/data-foundation/omniply/core/abstract.py:210\u001b[0m, in \u001b[0;36mAbstractGame.grab\u001b[0;34m(self, gizmo, default)\u001b[0m\n\u001b[1;32m    209\u001b[0m \u001b[38;5;28;01mtry\u001b[39;00m:\n\u001b[0;32m--> 210\u001b[0m \t\u001b[38;5;28;01mreturn\u001b[39;00m \u001b[38;5;28;43mself\u001b[39;49m\u001b[38;5;241;43m.\u001b[39;49m\u001b[43mgrab_from\u001b[49m\u001b[43m(\u001b[49m\u001b[38;5;28;43;01mNone\u001b[39;49;00m\u001b[43m,\u001b[49m\u001b[43m \u001b[49m\u001b[43mgizmo\u001b[49m\u001b[43m)\u001b[49m\n\u001b[1;32m    211\u001b[0m \u001b[38;5;28;01mexcept\u001b[39;00m AbstractGadgetError:\n",
      "File \u001b[0;32m~/workspace/clones/data-foundation/omniply/core/games.py:333\u001b[0m, in \u001b[0;36mTraceGame.grab_from\u001b[0;34m(self, ctx, gizmo)\u001b[0m\n\u001b[1;32m    332\u001b[0m \u001b[38;5;28;01mdef\u001b[39;00m \u001b[38;5;21mgrab_from\u001b[39m(\u001b[38;5;28mself\u001b[39m, ctx: Optional[AbstractGame], gizmo: \u001b[38;5;28mstr\u001b[39m) \u001b[38;5;241m-\u001b[39m\u001b[38;5;241m>\u001b[39m Any:\n\u001b[0;32m--> 333\u001b[0m \tval \u001b[38;5;241m=\u001b[39m \u001b[38;5;28;43msuper\u001b[39;49m\u001b[43m(\u001b[49m\u001b[43m)\u001b[49m\u001b[38;5;241;43m.\u001b[39;49m\u001b[43mgrab_from\u001b[49m\u001b[43m(\u001b[49m\u001b[43mctx\u001b[49m\u001b[43m,\u001b[49m\u001b[43m \u001b[49m\u001b[43mgizmo\u001b[49m\u001b[43m)\u001b[49m\n\u001b[1;32m    334\u001b[0m \t\u001b[38;5;28;01mif\u001b[39;00m \u001b[38;5;28mlen\u001b[39m(\u001b[38;5;28mself\u001b[39m\u001b[38;5;241m.\u001b[39m_partial_grabs):\n",
      "File \u001b[0;32m~/workspace/clones/data-foundation/omniply/core/games.py:195\u001b[0m, in \u001b[0;36mCacheGame.grab_from\u001b[0;34m(self, ctx, gizmo)\u001b[0m\n\u001b[1;32m    194\u001b[0m \t\u001b[38;5;28;01mreturn\u001b[39;00m \u001b[38;5;28mself\u001b[39m\u001b[38;5;241m.\u001b[39mdata[gizmo]\n\u001b[0;32m--> 195\u001b[0m val \u001b[38;5;241m=\u001b[39m \u001b[38;5;28;43mself\u001b[39;49m\u001b[38;5;241;43m.\u001b[39;49m\u001b[43m_cache_miss\u001b[49m\u001b[43m(\u001b[49m\u001b[43mctx\u001b[49m\u001b[43m,\u001b[49m\u001b[43m \u001b[49m\u001b[43mgizmo\u001b[49m\u001b[43m)\u001b[49m\n\u001b[1;32m    196\u001b[0m \u001b[38;5;28mself\u001b[39m[gizmo] \u001b[38;5;241m=\u001b[39m val  \u001b[38;5;66;03m# cache packaged val\u001b[39;00m\n",
      "File \u001b[0;32m~/workspace/clones/data-foundation/omniply/core/games.py:324\u001b[0m, in \u001b[0;36mTraceGame._cache_miss\u001b[0;34m(self, ctx, gizmo)\u001b[0m\n\u001b[1;32m    323\u001b[0m \u001b[38;5;28;01mtry\u001b[39;00m:\n\u001b[0;32m--> 324\u001b[0m \tval \u001b[38;5;241m=\u001b[39m \u001b[38;5;28;43msuper\u001b[39;49m\u001b[43m(\u001b[49m\u001b[43m)\u001b[49m\u001b[38;5;241;43m.\u001b[39;49m\u001b[43m_cache_miss\u001b[49m\u001b[43m(\u001b[49m\u001b[43mctx\u001b[49m\u001b[43m,\u001b[49m\u001b[43m \u001b[49m\u001b[43mgizmo\u001b[49m\u001b[43m)\u001b[49m\n\u001b[1;32m    325\u001b[0m \u001b[38;5;28;01mfinally\u001b[39;00m:\n",
      "File \u001b[0;32m~/workspace/clones/data-foundation/omniply/core/games.py:180\u001b[0m, in \u001b[0;36mCacheGame._cache_miss\u001b[0;34m(self, ctx, gizmo)\u001b[0m\n\u001b[1;32m    171\u001b[0m \u001b[38;5;250m\u001b[39m\u001b[38;5;124;03m\"\"\"\u001b[39;00m\n\u001b[1;32m    172\u001b[0m \u001b[38;5;124;03mHandles a cache miss.\u001b[39;00m\n\u001b[1;32m    173\u001b[0m \n\u001b[0;32m   (...)\u001b[0m\n\u001b[1;32m    178\u001b[0m \u001b[38;5;124;03m\tAssemblyError: Always.\u001b[39;00m\n\u001b[1;32m    179\u001b[0m \u001b[38;5;124;03m\"\"\"\u001b[39;00m\n\u001b[0;32m--> 180\u001b[0m \u001b[38;5;28;01mreturn\u001b[39;00m \u001b[38;5;28;43msuper\u001b[39;49m\u001b[43m(\u001b[49m\u001b[43m)\u001b[49m\u001b[38;5;241;43m.\u001b[39;49m\u001b[43mgrab_from\u001b[49m\u001b[43m(\u001b[49m\u001b[43mctx\u001b[49m\u001b[43m,\u001b[49m\u001b[43m \u001b[49m\u001b[43mgizmo\u001b[49m\u001b[43m)\u001b[49m\n",
      "File \u001b[0;32m~/workspace/clones/data-foundation/omniply/core/games.py:72\u001b[0m, in \u001b[0;36mGameBase.grab_from\u001b[0;34m(self, ctx, gizmo)\u001b[0m\n\u001b[1;32m     71\u001b[0m \u001b[38;5;28;01mexcept\u001b[39;00m \u001b[38;5;167;01mException\u001b[39;00m \u001b[38;5;28;01mas\u001b[39;00m error:\n\u001b[0;32m---> 72\u001b[0m \tout \u001b[38;5;241m=\u001b[39m \u001b[38;5;28;43mself\u001b[39;49m\u001b[38;5;241;43m.\u001b[39;49m\u001b[43m_grab_from_fallback\u001b[49m\u001b[43m(\u001b[49m\u001b[43merror\u001b[49m\u001b[43m,\u001b[49m\u001b[43m \u001b[49m\u001b[43mctx\u001b[49m\u001b[43m,\u001b[49m\u001b[43m \u001b[49m\u001b[43mgizmo\u001b[49m\u001b[43m)\u001b[49m\n\u001b[1;32m     73\u001b[0m \u001b[38;5;28;01mreturn\u001b[39;00m \u001b[38;5;28mself\u001b[39m\u001b[38;5;241m.\u001b[39mpackage(out, gizmo\u001b[38;5;241m=\u001b[39mgizmo)\n",
      "File \u001b[0;32m~/workspace/clones/data-foundation/omniply/core/games.py:41\u001b[0m, in \u001b[0;36mGameBase._grab_from_fallback\u001b[0;34m(self, error, ctx, gizmo)\u001b[0m\n\u001b[1;32m     40\u001b[0m \u001b[38;5;28;01mif\u001b[39;00m \u001b[38;5;28misinstance\u001b[39m(error, GrabError) \u001b[38;5;129;01mor\u001b[39;00m ctx \u001b[38;5;129;01mis\u001b[39;00m \u001b[38;5;28;01mNone\u001b[39;00m \u001b[38;5;129;01mor\u001b[39;00m ctx \u001b[38;5;129;01mis\u001b[39;00m \u001b[38;5;28mself\u001b[39m:\n\u001b[0;32m---> 41\u001b[0m \t\u001b[38;5;28;01mraise\u001b[39;00m \u001b[38;5;28mself\u001b[39m\u001b[38;5;241m.\u001b[39m_GrabError(gizmo, error) \u001b[38;5;28;01mfrom\u001b[39;00m \u001b[38;5;21;01merror\u001b[39;00m\n\u001b[1;32m     42\u001b[0m \u001b[38;5;28;01melse\u001b[39;00m:\n",
      "\u001b[0;31mGrabError\u001b[0m: 'latent' failed due to: 'observation' failed due to: missing gadget for 'observation'",
      "\nThe above exception was the direct cause of the following exception:\n",
      "\u001b[0;31mGrabError\u001b[0m                                 Traceback (most recent call last)",
      "Cell \u001b[0;32mIn[58], line 1\u001b[0m\n\u001b[0;32m----> 1\u001b[0m recs \u001b[38;5;241m=\u001b[39m \u001b[43mbatch\u001b[49m\u001b[43m[\u001b[49m\u001b[38;5;124;43m'\u001b[39;49m\u001b[38;5;124;43mreconstruction\u001b[39;49m\u001b[38;5;124;43m'\u001b[39;49m\u001b[43m]\u001b[49m\n\u001b[1;32m      2\u001b[0m recs\u001b[38;5;241m.\u001b[39mshape\n",
      "File \u001b[0;32m~/workspace/clones/data-foundation/omniply/core/op.py:110\u001b[0m, in \u001b[0;36mContext.__getitem__\u001b[0;34m(self, item)\u001b[0m\n\u001b[1;32m    100\u001b[0m \u001b[38;5;28;01mdef\u001b[39;00m \u001b[38;5;21m__getitem__\u001b[39m(\u001b[38;5;28mself\u001b[39m, item):\n\u001b[1;32m    101\u001b[0m \u001b[38;5;250m\t\u001b[39m\u001b[38;5;124;03m\"\"\"\u001b[39;00m\n\u001b[1;32m    102\u001b[0m \u001b[38;5;124;03m\tReturns the grabbed item from the context.\u001b[39;00m\n\u001b[1;32m    103\u001b[0m \n\u001b[0;32m   (...)\u001b[0m\n\u001b[1;32m    108\u001b[0m \u001b[38;5;124;03m\t\tAny: The grabbed item from the context.\u001b[39;00m\n\u001b[1;32m    109\u001b[0m \u001b[38;5;124;03m\t\"\"\"\u001b[39;00m\n\u001b[0;32m--> 110\u001b[0m \t\u001b[38;5;28;01mreturn\u001b[39;00m \u001b[38;5;28;43mself\u001b[39;49m\u001b[38;5;241;43m.\u001b[39;49m\u001b[43mgrab\u001b[49m\u001b[43m(\u001b[49m\u001b[43mitem\u001b[49m\u001b[43m)\u001b[49m\n",
      "File \u001b[0;32m~/workspace/clones/data-foundation/omniply/core/abstract.py:210\u001b[0m, in \u001b[0;36mAbstractGame.grab\u001b[0;34m(self, gizmo, default)\u001b[0m\n\u001b[1;32m    194\u001b[0m \u001b[38;5;250m\u001b[39m\u001b[38;5;124;03m\"\"\"\u001b[39;00m\n\u001b[1;32m    195\u001b[0m \u001b[38;5;124;03mConvenience function for grab_from to match dict.get API. It returns the given gizmo from this gadget,\u001b[39;00m\n\u001b[1;32m    196\u001b[0m \u001b[38;5;124;03mor raises ToolFailedError if the gizmo cannot be grabbed and no default value is provided.\u001b[39;00m\n\u001b[0;32m   (...)\u001b[0m\n\u001b[1;32m    207\u001b[0m \u001b[38;5;124;03m\tAbstractGadgetError: If the gizmo cannot be grabbed and no default value is provided.\u001b[39;00m\n\u001b[1;32m    208\u001b[0m \u001b[38;5;124;03m\"\"\"\u001b[39;00m\n\u001b[1;32m    209\u001b[0m \u001b[38;5;28;01mtry\u001b[39;00m:\n\u001b[0;32m--> 210\u001b[0m \t\u001b[38;5;28;01mreturn\u001b[39;00m \u001b[38;5;28;43mself\u001b[39;49m\u001b[38;5;241;43m.\u001b[39;49m\u001b[43mgrab_from\u001b[49m\u001b[43m(\u001b[49m\u001b[38;5;28;43;01mNone\u001b[39;49;00m\u001b[43m,\u001b[49m\u001b[43m \u001b[49m\u001b[43mgizmo\u001b[49m\u001b[43m)\u001b[49m\n\u001b[1;32m    211\u001b[0m \u001b[38;5;28;01mexcept\u001b[39;00m AbstractGadgetError:\n\u001b[1;32m    212\u001b[0m \t\u001b[38;5;28;01mif\u001b[39;00m default \u001b[38;5;129;01mis\u001b[39;00m _unique_game_default_value:\n",
      "File \u001b[0;32m~/workspace/clones/data-foundation/omniply/core/games.py:333\u001b[0m, in \u001b[0;36mTraceGame.grab_from\u001b[0;34m(self, ctx, gizmo)\u001b[0m\n\u001b[1;32m    332\u001b[0m \u001b[38;5;28;01mdef\u001b[39;00m \u001b[38;5;21mgrab_from\u001b[39m(\u001b[38;5;28mself\u001b[39m, ctx: Optional[AbstractGame], gizmo: \u001b[38;5;28mstr\u001b[39m) \u001b[38;5;241m-\u001b[39m\u001b[38;5;241m>\u001b[39m Any:\n\u001b[0;32m--> 333\u001b[0m \tval \u001b[38;5;241m=\u001b[39m \u001b[38;5;28;43msuper\u001b[39;49m\u001b[43m(\u001b[49m\u001b[43m)\u001b[49m\u001b[38;5;241;43m.\u001b[39;49m\u001b[43mgrab_from\u001b[49m\u001b[43m(\u001b[49m\u001b[43mctx\u001b[49m\u001b[43m,\u001b[49m\u001b[43m \u001b[49m\u001b[43mgizmo\u001b[49m\u001b[43m)\u001b[49m\n\u001b[1;32m    334\u001b[0m \t\u001b[38;5;28;01mif\u001b[39;00m \u001b[38;5;28mlen\u001b[39m(\u001b[38;5;28mself\u001b[39m\u001b[38;5;241m.\u001b[39m_partial_grabs):\n\u001b[1;32m    335\u001b[0m \t\t\u001b[38;5;28mself\u001b[39m\u001b[38;5;241m.\u001b[39m_products\u001b[38;5;241m.\u001b[39msetdefault(gizmo, \u001b[38;5;28mset\u001b[39m())\u001b[38;5;241m.\u001b[39madd(\u001b[38;5;28mself\u001b[39m\u001b[38;5;241m.\u001b[39m_partial_grabs[\u001b[38;5;241m-\u001b[39m\u001b[38;5;241m1\u001b[39m])\n",
      "File \u001b[0;32m~/workspace/clones/data-foundation/omniply/core/games.py:195\u001b[0m, in \u001b[0;36mCacheGame.grab_from\u001b[0;34m(self, ctx, gizmo)\u001b[0m\n\u001b[1;32m    193\u001b[0m \u001b[38;5;28;01mif\u001b[39;00m gizmo \u001b[38;5;129;01min\u001b[39;00m \u001b[38;5;28mself\u001b[39m\u001b[38;5;241m.\u001b[39mdata:\n\u001b[1;32m    194\u001b[0m \t\u001b[38;5;28;01mreturn\u001b[39;00m \u001b[38;5;28mself\u001b[39m\u001b[38;5;241m.\u001b[39mdata[gizmo]\n\u001b[0;32m--> 195\u001b[0m val \u001b[38;5;241m=\u001b[39m \u001b[38;5;28;43mself\u001b[39;49m\u001b[38;5;241;43m.\u001b[39;49m\u001b[43m_cache_miss\u001b[49m\u001b[43m(\u001b[49m\u001b[43mctx\u001b[49m\u001b[43m,\u001b[49m\u001b[43m \u001b[49m\u001b[43mgizmo\u001b[49m\u001b[43m)\u001b[49m\n\u001b[1;32m    196\u001b[0m \u001b[38;5;28mself\u001b[39m[gizmo] \u001b[38;5;241m=\u001b[39m val  \u001b[38;5;66;03m# cache packaged val\u001b[39;00m\n\u001b[1;32m    197\u001b[0m \u001b[38;5;28;01mreturn\u001b[39;00m val\n",
      "File \u001b[0;32m~/workspace/clones/data-foundation/omniply/core/games.py:324\u001b[0m, in \u001b[0;36mTraceGame._cache_miss\u001b[0;34m(self, ctx, gizmo)\u001b[0m\n\u001b[1;32m    322\u001b[0m \u001b[38;5;28mself\u001b[39m\u001b[38;5;241m.\u001b[39m_partial_grabs\u001b[38;5;241m.\u001b[39mappend(gizmo)\n\u001b[1;32m    323\u001b[0m \u001b[38;5;28;01mtry\u001b[39;00m:\n\u001b[0;32m--> 324\u001b[0m \tval \u001b[38;5;241m=\u001b[39m \u001b[38;5;28;43msuper\u001b[39;49m\u001b[43m(\u001b[49m\u001b[43m)\u001b[49m\u001b[38;5;241;43m.\u001b[39;49m\u001b[43m_cache_miss\u001b[49m\u001b[43m(\u001b[49m\u001b[43mctx\u001b[49m\u001b[43m,\u001b[49m\u001b[43m \u001b[49m\u001b[43mgizmo\u001b[49m\u001b[43m)\u001b[49m\n\u001b[1;32m    325\u001b[0m \u001b[38;5;28;01mfinally\u001b[39;00m:\n\u001b[1;32m    326\u001b[0m \t\u001b[38;5;28mself\u001b[39m\u001b[38;5;241m.\u001b[39m_partial_grabs\u001b[38;5;241m.\u001b[39mpop()\n",
      "File \u001b[0;32m~/workspace/clones/data-foundation/omniply/core/games.py:180\u001b[0m, in \u001b[0;36mCacheGame._cache_miss\u001b[0;34m(self, ctx, gizmo)\u001b[0m\n\u001b[1;32m    170\u001b[0m \u001b[38;5;28;01mdef\u001b[39;00m \u001b[38;5;21m_cache_miss\u001b[39m(\u001b[38;5;28mself\u001b[39m, ctx: Optional[AbstractGame], gizmo: \u001b[38;5;28mstr\u001b[39m) \u001b[38;5;241m-\u001b[39m\u001b[38;5;241m>\u001b[39m Any:\n\u001b[1;32m    171\u001b[0m \u001b[38;5;250m\t\u001b[39m\u001b[38;5;124;03m\"\"\"\u001b[39;00m\n\u001b[1;32m    172\u001b[0m \u001b[38;5;124;03m\tHandles a cache miss.\u001b[39;00m\n\u001b[1;32m    173\u001b[0m \n\u001b[0;32m   (...)\u001b[0m\n\u001b[1;32m    178\u001b[0m \u001b[38;5;124;03m\t\tAssemblyError: Always.\u001b[39;00m\n\u001b[1;32m    179\u001b[0m \u001b[38;5;124;03m\t\"\"\"\u001b[39;00m\n\u001b[0;32m--> 180\u001b[0m \t\u001b[38;5;28;01mreturn\u001b[39;00m \u001b[38;5;28;43msuper\u001b[39;49m\u001b[43m(\u001b[49m\u001b[43m)\u001b[49m\u001b[38;5;241;43m.\u001b[39;49m\u001b[43mgrab_from\u001b[49m\u001b[43m(\u001b[49m\u001b[43mctx\u001b[49m\u001b[43m,\u001b[49m\u001b[43m \u001b[49m\u001b[43mgizmo\u001b[49m\u001b[43m)\u001b[49m\n",
      "File \u001b[0;32m~/workspace/clones/data-foundation/omniply/core/games.py:72\u001b[0m, in \u001b[0;36mGameBase.grab_from\u001b[0;34m(self, ctx, gizmo)\u001b[0m\n\u001b[1;32m     70\u001b[0m \tout \u001b[38;5;241m=\u001b[39m \u001b[38;5;28mself\u001b[39m\u001b[38;5;241m.\u001b[39m_grab(gizmo)\n\u001b[1;32m     71\u001b[0m \u001b[38;5;28;01mexcept\u001b[39;00m \u001b[38;5;167;01mException\u001b[39;00m \u001b[38;5;28;01mas\u001b[39;00m error:\n\u001b[0;32m---> 72\u001b[0m \tout \u001b[38;5;241m=\u001b[39m \u001b[38;5;28;43mself\u001b[39;49m\u001b[38;5;241;43m.\u001b[39;49m\u001b[43m_grab_from_fallback\u001b[49m\u001b[43m(\u001b[49m\u001b[43merror\u001b[49m\u001b[43m,\u001b[49m\u001b[43m \u001b[49m\u001b[43mctx\u001b[49m\u001b[43m,\u001b[49m\u001b[43m \u001b[49m\u001b[43mgizmo\u001b[49m\u001b[43m)\u001b[49m\n\u001b[1;32m     73\u001b[0m \u001b[38;5;28;01mreturn\u001b[39;00m \u001b[38;5;28mself\u001b[39m\u001b[38;5;241m.\u001b[39mpackage(out, gizmo\u001b[38;5;241m=\u001b[39mgizmo)\n",
      "File \u001b[0;32m~/workspace/clones/data-foundation/omniply/core/games.py:41\u001b[0m, in \u001b[0;36mGameBase._grab_from_fallback\u001b[0;34m(self, error, ctx, gizmo)\u001b[0m\n\u001b[1;32m     39\u001b[0m \u001b[38;5;28;01mif\u001b[39;00m \u001b[38;5;28misinstance\u001b[39m(error, AbstractGadgetError):\n\u001b[1;32m     40\u001b[0m \t\u001b[38;5;28;01mif\u001b[39;00m \u001b[38;5;28misinstance\u001b[39m(error, GrabError) \u001b[38;5;129;01mor\u001b[39;00m ctx \u001b[38;5;129;01mis\u001b[39;00m \u001b[38;5;28;01mNone\u001b[39;00m \u001b[38;5;129;01mor\u001b[39;00m ctx \u001b[38;5;129;01mis\u001b[39;00m \u001b[38;5;28mself\u001b[39m:\n\u001b[0;32m---> 41\u001b[0m \t\t\u001b[38;5;28;01mraise\u001b[39;00m \u001b[38;5;28mself\u001b[39m\u001b[38;5;241m.\u001b[39m_GrabError(gizmo, error) \u001b[38;5;28;01mfrom\u001b[39;00m \u001b[38;5;21;01merror\u001b[39;00m\n\u001b[1;32m     42\u001b[0m \t\u001b[38;5;28;01melse\u001b[39;00m:\n\u001b[1;32m     43\u001b[0m \t\t\u001b[38;5;28;01mreturn\u001b[39;00m ctx\u001b[38;5;241m.\u001b[39mgrab(gizmo)\n",
      "\u001b[0;31mGrabError\u001b[0m: 'reconstruction' failed due to: 'latent' failed due to: 'observation' failed due to: missing gadget for 'observation'"
     ]
    }
   ],
   "source": [
    "recs = batch['reconstruction']\n",
    "recs.shape"
   ]
  },
  {
   "cell_type": "code",
   "execution_count": null,
   "metadata": {},
   "outputs": [],
   "source": []
  },
  {
   "cell_type": "code",
   "execution_count": null,
   "metadata": {},
   "outputs": [],
   "source": []
  },
  {
   "cell_type": "code",
   "execution_count": null,
   "metadata": {},
   "outputs": [],
   "source": []
  },
  {
   "cell_type": "code",
   "execution_count": 6,
   "metadata": {},
   "outputs": [],
   "source": [
    "raw = '''_base: [m/optim/intv, uni]\n",
    "_meta: {script_name: train}\n",
    "amsgrad: true\n",
    "batch-size: 1024\n",
    "budget: 100000\n",
    "ckpt-freq: 10000\n",
    "classifier: {_type: mlp, hidden: <>cls-hidden}\n",
    "cls-hidden: [512, 512]\n",
    "cls-wt: 1\n",
    "dataset:\n",
    "  _type: simple-coco\n",
    "  app: {embedding: observation}\n",
    "  split: train\n",
    "dec-hidden: [512, 512]\n",
    "decoder: {_type: mlp, hidden: <>dec-hidden}\n",
    "device: cuda:0\n",
    "enc-hidden: [512, 512]\n",
    "encoder: {_type: mlp, hidden: <>enc-hidden}\n",
    "env:\n",
    "  criterion:\n",
    "    _type: multi-loss\n",
    "    wts: {cls: <>cls-wt, rec: <>rec-wt}\n",
    "  detacher:\n",
    "    _type: detacher\n",
    "    app: {detached: latent_d, original: latent}\n",
    "  gt-intervention: {_type: intervention/label}\n",
    "  intv-criterion:\n",
    "    _type: multi-loss\n",
    "    app: {loss: loss_intv}\n",
    "    wts: {mag: <>mag-wt, man: <>man-wt}\n",
    "  manifold:\n",
    "    _type: mechanism\n",
    "    content: [<>env.task, <>model]\n",
    "    external: {accuracy: accuracy_man, loss_cls: loss_man, prediction: prediction_man}\n",
    "    internal: {label: intervention, latent: response}\n",
    "  probe_response:\n",
    "    _type: mechanism\n",
    "    content: [<>model]\n",
    "    external: {latent: response}\n",
    "    internal: {latent: probe, observation: reconstruction}\n",
    "  task:\n",
    "    _type: multi-classification\n",
    "    app: {loss: loss_cls, macro: accuracy}\n",
    "  viz_intv_mag:\n",
    "    _type: vecinfo\n",
    "    app: {magnitude: intv_mag, scale: intv_scale, vector: probe}\n",
    "  viz_latent_mag:\n",
    "    _type: vecinfo\n",
    "    app: {magnitude: latent_mag, scale: latent_scale, vector: latent}\n",
    "  viz_pred_stats:\n",
    "    _type: prediction-gap\n",
    "    app: {ambient: prediction, intervened: prediction_man}\n",
    "  viz_support:\n",
    "    _type: support\n",
    "    app: {src: latent, tgt: probe}\n",
    "eval-batch-size: <>batch-size\n",
    "eval-freq: 1000\n",
    "eval-split: 0.1\n",
    "events:\n",
    "  checkpointer: {_type: checkpointer, freq: <>ckpt-freq}\n",
    "  evaluator: {_type: evaluator, eval-reporter: <>events.monitor, freq: <>eval-freq,\n",
    "    metrics: <>wandb}\n",
    "  monitor: {_type: wandb, freqs: <>wandb, max-imgs: 12}\n",
    "intervention:\n",
    "  _type: intervention/module\n",
    "  app: {ambient: latent_d}\n",
    "  condition: /data/felix/cache/static/coco-bert-text-interventions.h5\n",
    "  module: <>modifier\n",
    "  normalize: true\n",
    "intervention_optim: {_type: avoid-adam, objective: loss_intv}\n",
    "latent-dim: 128\n",
    "log: {accuracy: true, accuracy_man: true, loss_man: true, loss_rec: true}\n",
    "lr: 0.001\n",
    "mag-wt: 0\n",
    "man-wt: 1\n",
    "mod-hidden: [256]\n",
    "model:\n",
    "  _mod: {supervised: true}\n",
    "  _type: norm-ae\n",
    "  app: {features: latent, loss: loss_rec}\n",
    "modifier: {_type: mlp, hidden: <>mod-hidden}\n",
    "optimizer: {_type: adam, objective: loss}\n",
    "planner: {_type: planner}\n",
    "project-name: '{dataset.name}-ced'\n",
    "rec-wt: 100\n",
    "reporter: {_type: reporter}\n",
    "saveroot: /data/felix/cache/checkpoints\n",
    "trainer: {_type: intervention-trainer}\n",
    "wandb: {accuracy: 10, accuracy_man: 10, amd: 100, changed_f1: 500, intv_comparison: 1000,\n",
    "  intv_mag: 100, intv_scale: 100, latent_mag: 100, latent_scale: 100, loss_cls: 10,\n",
    "  loss_mag: false, loss_man: 10, loss_rec: 10, proximity_stats: 500, rec_comparison: 1000,\n",
    "  unchanged_f1: 500}\n",
    "wandb-dir: /data/felix/cache/wandb'''\n",
    "full = raw\n",
    "# full = '\\n'.join([l[4:] for l in raw.split('\\n')])\n",
    "Path('/data/felix/cache/checkpoints/ae128_coco_20250114_230254/ckpt_020000/config.yaml').write_text(full);"
   ]
  },
  {
   "cell_type": "code",
   "execution_count": null,
   "metadata": {},
   "outputs": [],
   "source": []
  },
  {
   "cell_type": "code",
   "execution_count": null,
   "metadata": {},
   "outputs": [],
   "source": []
  },
  {
   "cell_type": "code",
   "execution_count": null,
   "metadata": {},
   "outputs": [],
   "source": []
  }
 ],
 "metadata": {
  "kernelspec": {
   "display_name": "base",
   "language": "python",
   "name": "python3"
  },
  "language_info": {
   "codemirror_mode": {
    "name": "ipython",
    "version": 3
   },
   "file_extension": ".py",
   "mimetype": "text/x-python",
   "name": "python",
   "nbconvert_exporter": "python",
   "pygments_lexer": "ipython3",
   "version": "3.12.4"
  }
 },
 "nbformat": 4,
 "nbformat_minor": 2
}
