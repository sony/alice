{
 "cells": [
  {
   "cell_type": "code",
   "execution_count": 1,
   "metadata": {},
   "outputs": [
    {
     "name": "stdout",
     "output_type": "stream",
     "text": [
      "Selecting CUDA device 0 with 70382 MiB free memory and 0% utilization\n"
     ]
    }
   ],
   "source": [
    "import os\n",
    "if '_cwd_set' not in locals(): locals()['_cwd_set'] = os.chdir(os.path.dirname(os.getcwd()))\n",
    "import omnifig as fig\n",
    "fig.initialize()\n",
    "from src.jimports import *\n",
    "from src.util import set_default_device, repo_root, data_root\n",
    "from src.dataset import RawCOCO, SimpleCOCO\n",
    "from src.pretrained import GPT2, BERT\n",
    "device = set_default_device();"
   ]
  },
  {
   "cell_type": "code",
   "execution_count": 2,
   "metadata": {},
   "outputs": [
    {
     "data": {
      "text/plain": [
       "5000"
      ]
     },
     "execution_count": 2,
     "metadata": {},
     "output_type": "execute_result"
    }
   ],
   "source": [
    "dataset = SimpleCOCO(split='val').prepare()\n",
    "dataset.size"
   ]
  },
  {
   "cell_type": "code",
   "execution_count": 3,
   "metadata": {},
   "outputs": [
    {
     "data": {
      "text/plain": [
       "50"
      ]
     },
     "execution_count": 3,
     "metadata": {},
     "output_type": "execute_result"
    }
   ],
   "source": [
    "root = repo_root() / 'templates'\n",
    "\n",
    "templates = load_yaml(root / 'add-cls.yml')\n",
    "len(templates)"
   ]
  },
  {
   "cell_type": "code",
   "execution_count": 4,
   "metadata": {},
   "outputs": [
    {
     "data": {
      "text/plain": [
       "80"
      ]
     },
     "execution_count": 4,
     "metadata": {},
     "output_type": "execute_result"
    }
   ],
   "source": [
    "labels = dataset.label_space.class_names\n",
    "len(labels)"
   ]
  },
  {
   "cell_type": "code",
   "execution_count": 5,
   "metadata": {},
   "outputs": [
    {
     "data": {
      "text/plain": [
       "('person',\n",
       " 'bicycle',\n",
       " 'car',\n",
       " 'motorcycle',\n",
       " 'airplane',\n",
       " 'bus',\n",
       " 'train',\n",
       " 'truck',\n",
       " 'boat',\n",
       " 'traffic light',\n",
       " 'fire hydrant',\n",
       " 'stop sign',\n",
       " 'parking meter',\n",
       " 'bench',\n",
       " 'bird',\n",
       " 'cat',\n",
       " 'dog',\n",
       " 'horse',\n",
       " 'sheep',\n",
       " 'cow',\n",
       " 'elephant',\n",
       " 'bear',\n",
       " 'zebra',\n",
       " 'giraffe',\n",
       " 'backpack',\n",
       " 'umbrella',\n",
       " 'handbag',\n",
       " 'tie',\n",
       " 'suitcase',\n",
       " 'frisbee',\n",
       " 'skis',\n",
       " 'snowboard',\n",
       " 'sports ball',\n",
       " 'kite',\n",
       " 'baseball bat',\n",
       " 'baseball glove',\n",
       " 'skateboard',\n",
       " 'surfboard',\n",
       " 'tennis racket',\n",
       " 'bottle',\n",
       " 'wine glass',\n",
       " 'cup',\n",
       " 'fork',\n",
       " 'knife',\n",
       " 'spoon',\n",
       " 'bowl',\n",
       " 'banana',\n",
       " 'apple',\n",
       " 'sandwich',\n",
       " 'orange',\n",
       " 'broccoli',\n",
       " 'carrot',\n",
       " 'hot dog',\n",
       " 'pizza',\n",
       " 'donut',\n",
       " 'cake',\n",
       " 'chair',\n",
       " 'couch',\n",
       " 'potted plant',\n",
       " 'bed',\n",
       " 'dining table',\n",
       " 'toilet',\n",
       " 'tv',\n",
       " 'laptop',\n",
       " 'mouse',\n",
       " 'remote',\n",
       " 'keyboard',\n",
       " 'cell phone',\n",
       " 'microwave',\n",
       " 'oven',\n",
       " 'toaster',\n",
       " 'sink',\n",
       " 'refrigerator',\n",
       " 'book',\n",
       " 'clock',\n",
       " 'vase',\n",
       " 'scissors',\n",
       " 'teddy bear',\n",
       " 'hair drier',\n",
       " 'toothbrush')"
      ]
     },
     "execution_count": 5,
     "metadata": {},
     "output_type": "execute_result"
    }
   ],
   "source": [
    "labels"
   ]
  },
  {
   "cell_type": "code",
   "execution_count": 11,
   "metadata": {},
   "outputs": [],
   "source": [
    "_irregular_plurals = {\n",
    "    'person': 'people',\n",
    "    'child': 'children',\n",
    "    'foot': 'feet',\n",
    "    'tooth': 'teeth',\n",
    "    'scissors': 'scissors',\n",
    "    'couch': 'couches',\n",
    "    'sandwich': 'sandwiches',\n",
    "    'skis': 'skis',\n",
    "    'bench': 'benches',\n",
    "}\n",
    "def pluralize(label):\n",
    "    if label in _irregular_plurals: return _irregular_plurals[label]\n",
    "    return f'{label}s' if label[-1] != 's' else f'{label}es'\n",
    "plurals = {label: pluralize(label) for label in labels}"
   ]
  },
  {
   "cell_type": "code",
   "execution_count": null,
   "metadata": {},
   "outputs": [],
   "source": [
    "# https://chatgpt.com/c/674d5c68-ac0c-8005-9100-be2ab8ca243d\n",
    "add_templates = load_yaml(root / 'add-cls.yml')\n",
    "remove_templates = load_yaml(root / 'remove-cls.yml')\n",
    "replace_templates = load_yaml(root / 'replace-cls.yml')"
   ]
  },
  {
   "cell_type": "code",
   "execution_count": null,
   "metadata": {},
   "outputs": [
    {
     "data": {
      "text/plain": [
       "(80, 80, 6400)"
      ]
     },
     "execution_count": 12,
     "metadata": {},
     "output_type": "execute_result"
    }
   ],
   "source": [
    "def fill_in(templates, **info):\n",
    "    return [line.format(**info) for line in templates]\n",
    "filled = {}\n",
    "\n",
    "add_lines = {label: fill_in(add_templates, label=label, plural=plurals[label]) for label in labels}\n",
    "remove_lines = {label: fill_in(remove_templates, label=label, plural=plurals[label]) for label in labels}\n",
    "replace_lines = {(label1, label2): fill_in(replace_templates, \n",
    "                                           label1=label1, label2=label2, \n",
    "                                           plural1=plurals[label1], plural2=plurals[label2]) \n",
    "                                           for label1 in labels for label2 in labels}\n",
    "\n",
    "len(add_lines), len(remove_lines), len(replace_lines)"
   ]
  },
  {
   "cell_type": "code",
   "execution_count": 15,
   "metadata": {},
   "outputs": [
    {
     "data": {
      "text/plain": [
       "['Could you add a tv to the image?',\n",
       " 'Please include at least one tv without altering the existing composition too much.',\n",
       " 'Consider adding a tv to enhance the scene.',\n",
       " 'A tv would be a great addition here!',\n",
       " 'It would be nice to see a tv included.',\n",
       " 'Can you incorporate a tv into the picture?',\n",
       " 'Let’s add a tv to complete the scene.',\n",
       " 'Adding a tv might improve the overall look.',\n",
       " 'What about including a tv in this image?',\n",
       " 'Could we see a tv somewhere in this shot?',\n",
       " 'I think a tv would fit perfectly in this scene.',\n",
       " 'How about integrating a tv into the design?',\n",
       " 'Add a tv while keeping the current elements intact.',\n",
       " 'A single tv could make this image pop!',\n",
       " 'Would you mind placing a tv in the frame?',\n",
       " 'Insert a tv to balance the visual elements.',\n",
       " 'Sprinkle in a tv for a touch of variety.',\n",
       " 'A tv could bring some life to this image.',\n",
       " 'Let’s add just one tv to the mix.',\n",
       " 'I’d like to see a tv in this composition.',\n",
       " 'Please throw in a tv for added effect.',\n",
       " 'A touch of tv would be great!',\n",
       " 'Can you work a tv into this visual?',\n",
       " 'Adding a tv could complete the picture.',\n",
       " 'This image could use a tv somewhere.',\n",
       " 'Place a tv here for extra detail.',\n",
       " 'Let’s see how a tv looks in this scene.',\n",
       " 'Could you creatively add a tv?',\n",
       " 'Enhance the image by adding a tv.',\n",
       " 'Find a spot for a tv in this artwork.',\n",
       " 'A subtle tv addition might work well.',\n",
       " 'What if we added a tv somewhere?',\n",
       " 'Add one tv, but keep the current focus.',\n",
       " 'Would you consider inserting a tv?',\n",
       " 'Please add a single tv to complement the image.',\n",
       " 'Make room for a tv in this design.',\n",
       " 'Add a tv subtly to maintain harmony.',\n",
       " 'Let’s try putting a tv in this picture.',\n",
       " 'Could you include a tv in the layout?',\n",
       " 'Enrich the image by introducing a tv.',\n",
       " 'How about a touch of tv in the background?',\n",
       " 'One tv might balance this composition.',\n",
       " 'Introduce a tv somewhere to liven it up.',\n",
       " 'A small tv addition could work wonders.',\n",
       " 'Incorporate a tv to round out the design.',\n",
       " 'Please weave a tv into the image gently.',\n",
       " 'A sprinkle of tv would enhance this view.',\n",
       " 'Include a tv to elevate the overall scene.',\n",
       " 'Adding a tv might give this image more depth.',\n",
       " 'Let’s see a tv included in this arrangement.']"
      ]
     },
     "execution_count": 15,
     "metadata": {},
     "output_type": "execute_result"
    }
   ],
   "source": [
    "lbl = random.choice(labels)\n",
    "add_lines[lbl]"
   ]
  },
  {
   "cell_type": "code",
   "execution_count": 47,
   "metadata": {},
   "outputs": [],
   "source": [
    "# model = GPT2().prepare(device=device)\n",
    "model = BERT().prepare(device=device)\n",
    "def get_embeddings(lines):\n",
    "    with torch.no_grad():\n",
    "        ctx = Context(model)\n",
    "        ctx['text'] = lines\n",
    "        return ctx['output']"
   ]
  },
  {
   "cell_type": "code",
   "execution_count": 48,
   "metadata": {},
   "outputs": [
    {
     "data": {
      "text/plain": [
       "(tensor(-9.1213, device='cuda:0'), tensor(4.2966, device='cuda:0'))"
      ]
     },
     "execution_count": 48,
     "metadata": {},
     "output_type": "execute_result"
    }
   ],
   "source": [
    "emb = get_embeddings(add_lines[lbl])\n",
    "emb.min(), emb.max()"
   ]
  },
  {
   "cell_type": "code",
   "execution_count": null,
   "metadata": {},
   "outputs": [
    {
     "name": "stdout",
     "output_type": "stream",
     "text": [
      "cup stop sign\n"
     ]
    },
    {
     "data": {
      "text/plain": [
       "<matplotlib.image.AxesImage at 0x7febfce077a0>"
      ]
     },
     "execution_count": 68,
     "metadata": {},
     "output_type": "execute_result"
    },
    {
     "data": {
      "image/png": "[encoded data removed]",
      "text/plain": [
       "<Figure size 480x480 with 1 Axes>"
      ]
     },
     "metadata": {},
     "output_type": "display_data"
    }
   ],
   "source": [
    "lbl1, lbl2 = random.sample(labels, 2)\n",
    "print(lbl1, lbl2)\n",
    "embs = torch.cat([get_embeddings(add_lines[lbl1]), get_embeddings(add_lines[lbl2])], dim=0)\n",
    "# embs = torch.cat([get_embeddings(add_lines[lbl1]), get_embeddings(replace_lines[lbl1, lbl2])], dim=0)\n",
    "# similarity matrix\n",
    "sim = F.normalize(embs, dim=1) @ F.normalize(embs, dim=1).T\n",
    "plt.matshow(sim.cpu().numpy())"
   ]
  },
  {
   "cell_type": "code",
   "execution_count": 70,
   "metadata": {},
   "outputs": [],
   "source": [
    "dataroot = Path('/data/felix/cache/static')\n",
    "\n",
    "dat = hf.File(dataroot / 'coco-bert-text-interventions.h5', 'a')"
   ]
  },
  {
   "cell_type": "code",
   "execution_count": null,
   "metadata": {},
   "outputs": [],
   "source": []
  },
  {
   "cell_type": "code",
   "execution_count": null,
   "metadata": {},
   "outputs": [],
   "source": [
    "dat.attrs['labels'] = labels\n",
    "dat.attrs['add_templates'] = add_templates\n",
    "dat.attrs['remove_templates'] = remove_templates\n",
    "dat.attrs['replace_templates'] = replace_templates"
   ]
  },
  {
   "cell_type": "code",
   "execution_count": 83,
   "metadata": {},
   "outputs": [
    {
     "data": {
      "text/plain": [
       "torch.float32"
      ]
     },
     "execution_count": 83,
     "metadata": {},
     "output_type": "execute_result"
    }
   ],
   "source": [
    "get_embeddings(add_lines[lbl1]).dtype"
   ]
  },
  {
   "cell_type": "code",
   "execution_count": null,
   "metadata": {},
   "outputs": [
    {
     "data": {
      "application/vnd.jupyter.widget-view+json": {
       "model_id": "d17438bc260e4ef1b23b0a56af40c3ce",
       "version_major": 2,
       "version_minor": 0
      },
      "text/plain": [
       "  0%|          | 0/80 [00:00<?, ?it/s]"
      ]
     },
     "metadata": {},
     "output_type": "display_data"
    }
   ],
   "source": [
    "dat.create_dataset('add_embeddings', (len(labels), len(add_templates), 768), dtype=np.float32)\n",
    "for i, label in tqdm(enumerate(labels), total=len(labels)):\n",
    "    dat['add_embeddings'][i] = get_embeddings(add_lines[label]).cpu().numpy()"
   ]
  },
  {
   "cell_type": "code",
   "execution_count": 89,
   "metadata": {},
   "outputs": [
    {
     "data": {
      "application/vnd.jupyter.widget-view+json": {
       "model_id": "7aa4a278ca654e068e7f0039a54a41ac",
       "version_major": 2,
       "version_minor": 0
      },
      "text/plain": [
       "  0%|          | 0/80 [00:00<?, ?it/s]"
      ]
     },
     "metadata": {},
     "output_type": "display_data"
    }
   ],
   "source": [
    "dat.create_dataset('remove_embeddings', (len(labels), len(remove_templates), 768), dtype=np.float32)\n",
    "for i, label in tqdm(enumerate(labels), total=len(labels)):\n",
    "    dat['remove_embeddings'][i] = get_embeddings(remove_lines[label]).cpu().numpy()"
   ]
  },
  {
   "cell_type": "code",
   "execution_count": 90,
   "metadata": {},
   "outputs": [
    {
     "data": {
      "application/vnd.jupyter.widget-view+json": {
       "model_id": "a3c5ca6fa9b64299ade5973526988f3f",
       "version_major": 2,
       "version_minor": 0
      },
      "text/plain": [
       "  0%|          | 0/80 [00:00<?, ?it/s]"
      ]
     },
     "metadata": {},
     "output_type": "display_data"
    }
   ],
   "source": [
    "dat.create_dataset('replace_embeddings', (len(labels), len(labels), len(replace_templates), 768), dtype=np.float32)\n",
    "for i, label1 in tqdm(enumerate(labels), total=len(labels)):\n",
    "    for j, label2 in enumerate(labels):\n",
    "        dat['replace_embeddings'][i, j] = get_embeddings(replace_lines[label1, label2]).cpu().numpy()"
   ]
  },
  {
   "cell_type": "code",
   "execution_count": null,
   "metadata": {},
   "outputs": [],
   "source": [
    "dat.close()"
   ]
  },
  {
   "cell_type": "code",
   "execution_count": 92,
   "metadata": {},
   "outputs": [],
   "source": [
    "\n",
    "dat = hf.File(dataroot / 'coco-bert-text-interventions.h5', 'r')"
   ]
  },
  {
   "cell_type": "code",
   "execution_count": 100,
   "metadata": {},
   "outputs": [
    {
     "data": {
      "text/plain": [
       "(array([76, 36, 55,  6, 40, 43]), array([78, 62, 64, 57, 37, 34]))"
      ]
     },
     "execution_count": 100,
     "metadata": {},
     "output_type": "execute_result"
    }
   ],
   "source": [
    "x, y = np.random.randint(0, len(labels), (2, 6))\n",
    "# ord = np.argsort(x)\n",
    "# x, y = x[ord], y[ord]\n",
    "x, y"
   ]
  },
  {
   "cell_type": "code",
   "execution_count": 99,
   "metadata": {},
   "outputs": [
    {
     "data": {
      "text/plain": [
       "(80, 80, 50, 768)"
      ]
     },
     "execution_count": 99,
     "metadata": {},
     "output_type": "execute_result"
    }
   ],
   "source": [
    "full = dat['replace_embeddings'][:]\n",
    "full.shape"
   ]
  },
  {
   "cell_type": "code",
   "execution_count": 102,
   "metadata": {},
   "outputs": [
    {
     "data": {
      "text/plain": [
       "(6, 768)"
      ]
     },
     "execution_count": 102,
     "metadata": {},
     "output_type": "execute_result"
    }
   ],
   "source": [
    "full[x,y, 0].shape"
   ]
  },
  {
   "cell_type": "code",
   "execution_count": null,
   "metadata": {},
   "outputs": [],
   "source": [
    "'/data/felix/cache/static/coco-bert-text-interventions.h5'"
   ]
  },
  {
   "cell_type": "code",
   "execution_count": null,
   "metadata": {},
   "outputs": [],
   "source": []
  }
 ],
 "metadata": {
  "kernelspec": {
   "display_name": "base",
   "language": "python",
   "name": "python3"
  },
  "language_info": {
   "codemirror_mode": {
    "name": "ipython",
    "version": 3
   },
   "file_extension": ".py",
   "mimetype": "text/x-python",
   "name": "python",
   "nbconvert_exporter": "python",
   "pygments_lexer": "ipython3",
   "version": "3.12.4"
  }
 },
 "nbformat": 4,
 "nbformat_minor": 2
}
